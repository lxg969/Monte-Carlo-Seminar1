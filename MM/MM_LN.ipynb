{
 "cells": [
  {
   "cell_type": "code",
   "execution_count": 39,
   "metadata": {},
   "outputs": [],
   "source": [
    "import matplotlib.pyplot as plt\n",
    "plt.style.use('ggplot')\n",
    "import numpy as np\n",
    "from numpy import zeros_like\n",
    "from IPython.display import display\n",
    "def display_matrix(m):\n",
    "    display(sympy.Matrix(m))\n",
    "import sympy\n",
    "import pandas as pd\n",
    "import scipy.stats as ss\n",
    "\n",
    "sympy.init_printing()"
   ]
  },
  {
   "cell_type": "code",
   "execution_count": 40,
   "metadata": {},
   "outputs": [],
   "source": [
    "basis = 'leguerre'\n",
    "\n",
    "# parameters\n",
    "\n",
    "mu = 0.06\n",
    "r = 0.06\n",
    "T = 1\n",
    "I = 250\n",
    "paths = 10000\n",
    "S0 = 40\n",
    "S0_list = range(37, 43, 1)\n",
    "m = 0\n",
    "K = 40\n",
    "\n",
    "GBM_sigma = 0.04\n",
    "GBM_mu = r\n",
    "\n",
    "LN_lam = 1\n",
    "LN_sigma = 0.02\n",
    "LN_mu = r\n",
    "LN_v = 0.02\n",
    "\n",
    "JR_lam = 0.01\n",
    "JR_sigma = 0.03\n",
    "JR_mu = r + JR_lam\n",
    "\n",
    "LNparams = (LN_lam, LN_sigma, LN_mu, LN_v, m)\n",
    "JRparams = (JR_lam, JR_sigma, JR_mu, 0, m)\n",
    "GBMparams = (GBM_mu, GBM_sigma)"
   ]
  },
  {
   "cell_type": "code",
   "execution_count": 41,
   "metadata": {},
   "outputs": [],
   "source": [
    "def merton_jump_paths_sample(S0, paths, I, T, mu, sigma, lam, m, v):\n",
    "    np.random.seed(42)\n",
    "    dt = T / I\n",
    "    matrix = np.zeros((paths, I))\n",
    "    all_normals = []\n",
    "    all_lognormals = []\n",
    "    \n",
    "    for k in range(paths):\n",
    "        X = np.zeros(I)\n",
    "        S = np.zeros(I)\n",
    "        S[0] = S0\n",
    "        X[0] = np.log(S0)\n",
    "\n",
    "        for i in range(1, I):\n",
    "            Z = np.random.standard_normal()\n",
    "            all_normals.append(Z)\n",
    "            \n",
    "            N = np.random.poisson(lam * dt)\n",
    "            if N > 0:\n",
    "                Y = np.exp(np.random.normal(m, v, N))\n",
    "                logY = np.log(Y)\n",
    "                M = np.sum(np.log(Y))\n",
    "                all_lognormals.extend(logY)\n",
    "            else:\n",
    "                M = 0\n",
    "\n",
    "            X[i] = X[i-1] + (mu - 0.5 * sigma ** 2) * dt + sigma * np.sqrt(dt) * Z + M\n",
    "            S[i] = np.exp(X[i])\n",
    "        matrix[k] = S\n",
    "\n",
    "    mean_normal = np.mean(all_normals)\n",
    "    std_normal = np.std(all_normals)\n",
    "\n",
    "    if all_lognormals:\n",
    "        mean_lognormal = np.mean(all_lognormals)\n",
    "        std_lognormal = np.std(all_lognormals)\n",
    "    else:\n",
    "        mean_lognormal = 0\n",
    "        std_lognormal = 0\n",
    "\n",
    "    return mean_normal, mean_lognormal, std_normal, std_lognormal\n"
   ]
  },
  {
   "cell_type": "code",
   "execution_count": 42,
   "metadata": {},
   "outputs": [],
   "source": [
    "mean_normal_LN, mean_lognormal_LN, std_normal_LN, std_lognormal_LN = merton_jump_paths_sample(S0, paths, I, T, LN_mu, LN_sigma, LN_lam, m, LN_v)"
   ]
  },
  {
   "cell_type": "code",
   "execution_count": 43,
   "metadata": {},
   "outputs": [
    {
     "data": {
      "image/png": "[encoded data removed]",
      "text/latex": [
       "$\\displaystyle \\left( 0.00018039023823889, \\  -6.84187904278078 \\cdot 10^{-6}, \\  1.00010551861845, \\  0.0201629135046027\\right)$"
      ],
      "text/plain": [
       "(0.0001803902382388904, -6.8418790427807785e-06, 1.0001055186184518, 0.0201629\n",
       "13504602722)"
      ]
     },
     "execution_count": 43,
     "metadata": {},
     "output_type": "execute_result"
    }
   ],
   "source": [
    "merton_jump_paths_sample(S0, paths, I, T, LN_mu, LN_sigma, LN_lam, m, LN_v)"
   ]
  },
  {
   "cell_type": "code",
   "execution_count": 44,
   "metadata": {},
   "outputs": [],
   "source": [
    "def merton_jump_paths_mm(S0, paths, I, T, mu, sigma, lam, m, v, mean_normal_LN, mean_lognormal_LN, std_normal_LN, std_lognormal_LN):\n",
    "    np.random.seed(42)\n",
    "    S0, paths, I, T = S0, paths, I, T\n",
    "    matrix = np.zeros((paths, I))\n",
    "    for k in range(paths):\n",
    "        X = np.zeros(I)\n",
    "        S = np.zeros(I)\n",
    "        S[0] = S0\n",
    "        X[0] = np.log(S0)\n",
    "        dt = T / I\n",
    "        for i in range(1,I):\n",
    "            Z = np.random.standard_normal()\n",
    "            N = np.random.poisson(lam * dt)\n",
    "            Y = np.exp(np.random.normal(m,v,N))\n",
    "            logy = np.log(Y)\n",
    "\n",
    "            if N == 0:\n",
    "                M = 0\n",
    "            else:\n",
    "                M = np.sum(((logy - mean_lognormal_LN)/std_lognormal_LN)*v+m)\n",
    "            X[i] = X[i-1] + (mu - 0.5 * sigma ** 2) * dt + sigma * np.sqrt(dt) * ((Z-mean_normal_LN)/std_normal_LN) + M\n",
    "            S[i] = np.exp(X[i])\n",
    "        matrix[k] = S\n",
    "    return matrix"
   ]
  },
  {
   "cell_type": "code",
   "execution_count": 45,
   "metadata": {},
   "outputs": [],
   "source": [
    "def merton_jump_paths(S0, paths, lam, sigma, mu, v, m, T, I):\n",
    "    np.random.seed(42)\n",
    "    matrix = np.zeros((paths, I))\n",
    "    for k in range(paths):\n",
    "        X = np.zeros(I)\n",
    "        S = np.zeros(I)\n",
    "        \n",
    "        S[0] = S0\n",
    "        X[0] = np.log(S0)\n",
    "        \n",
    "        dt = T / I\n",
    "    \n",
    "        for i in range(1,I):\n",
    "            Z = np.random.standard_normal()\n",
    "            N = np.random.poisson(lam * dt)\n",
    "            Y = np.exp(np.random.normal(m,v,N))\n",
    "            #Y = np.random.lognormal(m,np.sqrt(v),N)\n",
    "    \n",
    "            if N == 0:\n",
    "                M = 0\n",
    "            else:\n",
    "                M = np.sum(np.log(Y))\n",
    "                \n",
    "            X[i] = X[i-1] + (mu - 0.5 * sigma ** 2) * dt + sigma * np.sqrt(dt) * Z + M\n",
    "            S[i] = np.exp(X[i])\n",
    "        matrix[k] = S\n",
    "    return matrix"
   ]
  },
  {
   "cell_type": "code",
   "execution_count": 46,
   "metadata": {},
   "outputs": [],
   "source": [
    "def LSM(K, S, I, df, basis, deg):\n",
    "    paths = len(S)\n",
    "    np.random.seed(42)\n",
    "    H = np.maximum(K - S, 0)  # intrinsic values for put option\n",
    "    V = np.zeros_like(H)  # value matrix\n",
    "    V[:, -1] = H[:, -1]  # set value at maturity equal to intrinsic value\n",
    "\n",
    "    # Valuation by LS Method\n",
    "    for t in range(I - 2, 0, -1):\n",
    "        good_paths = H[:, t] > 0  # paths where the intrinsic value is positive\n",
    "\n",
    "        if np.sum(good_paths) > 0:\n",
    "            if basis == 'poly':\n",
    "                rg = np.polyfit(S[good_paths, t], V[good_paths, t + 1] * df, deg)\n",
    "                C = np.polyval(rg, S[good_paths, t])\n",
    "            elif basis == 'legendre':\n",
    "                rg = np.polynomial.legendre.legfit(S[good_paths, t], V[good_paths, t + 1] * df, deg)\n",
    "                C = np.polynomial.legendre.legval(S[good_paths, t], rg)\n",
    "            elif basis =='laguerre':\n",
    "                rg = np.polynomial.laguerre.lagfit(S[good_paths, t], V[good_paths, t + 1] * df, deg)\n",
    "                C = np.polynomial.laguerre.lagval(S[good_paths, t], rg)\n",
    "            else:  # 'hermite'\n",
    "                rg = np.polynomial.hermite.hermfit(S[good_paths, t], V[good_paths, t + 1] * df, deg)\n",
    "                C = np.polynomial.hermite.hermval(S[good_paths, t], rg)\n",
    "\n",
    "            exercise = np.zeros(len(good_paths), dtype=bool)\n",
    "            exercise[good_paths] = H[good_paths, t] > C\n",
    "        else:\n",
    "            # If all intrinsic values are zero, mark all as non-exercise\n",
    "            exercise = np.zeros(len(good_paths), dtype=bool)\n",
    "\n",
    "        V[exercise, t] = H[exercise, t]\n",
    "        V[exercise, t + 1 :] = 0\n",
    "        discount_path = ~exercise\n",
    "        V[discount_path, t] = V[discount_path, t + 1] * df\n",
    "\n",
    "    V0 = np.mean(V[:, 1]) * df  # discounted expectation of V[t=1]\n",
    "    V0_array = V[:, 1] * df\n",
    "    SE = np.std(V[:, 1] * df) / np.sqrt(paths)\n",
    "    variance = np.var(V[:, 1] * df)\n",
    "    return V0, V0_array, SE, variance"
   ]
  },
  {
   "cell_type": "code",
   "execution_count": 47,
   "metadata": {},
   "outputs": [],
   "source": [
    "paths_mm = merton_jump_paths_mm(S0, paths, I, T, LN_mu, LN_sigma, LN_lam, m, LN_v, mean_normal_LN, mean_lognormal_LN, std_normal_LN, std_lognormal_LN)\n",
    "paths = merton_jump_paths(S0, paths, LN_lam, LN_sigma, LN_mu, LN_v, m, T, I)\n",
    "\n",
    "mm_V0, mm_V0_array, mm_SE, mm_variance = LSM(K, paths_mm, I, np.exp(-r * T), basis, 3)\n",
    "V0, V0_array, SE, variance = LSM(K, paths, I, np.exp(-r * T), basis, 3)"
   ]
  },
  {
   "cell_type": "code",
   "execution_count": 48,
   "metadata": {},
   "outputs": [
    {
     "name": "stdout",
     "output_type": "stream",
     "text": [
      "MM V0:  0.03885\n",
      "MM SE:  0.0008\n",
      "MM variance:  0.00643\n",
      "V0:  0.0389\n",
      "SE:  0.00081\n",
      "variance:  0.00652\n"
     ]
    }
   ],
   "source": [
    "print('MM V0: ', mm_V0.round(5))\n",
    "print('MM SE: ', mm_SE.round(5))\n",
    "print('MM variance: ', mm_variance.round(5))\n",
    "\n",
    "print('V0: ', V0.round(5))\n",
    "print('SE: ', SE.round(5))\n",
    "print('variance: ', variance.round(5))"
   ]
  },
  {
   "cell_type": "code",
   "execution_count": null,
   "metadata": {},
   "outputs": [],
   "source": []
  }
 ],
 "metadata": {
  "kernelspec": {
   "display_name": "base",
   "language": "python",
   "name": "python3"
  },
  "language_info": {
   "codemirror_mode": {
    "name": "ipython",
    "version": 3
   },
   "file_extension": ".py",
   "mimetype": "text/x-python",
   "name": "python",
   "nbconvert_exporter": "python",
   "pygments_lexer": "ipython3",
   "version": "3.9.13"
  }
 },
 "nbformat": 4,
 "nbformat_minor": 2
}
