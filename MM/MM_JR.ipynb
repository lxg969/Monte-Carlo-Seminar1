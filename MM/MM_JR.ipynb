{
 "cells": [
  {
   "cell_type": "code",
   "execution_count": 11,
   "metadata": {},
   "outputs": [],
   "source": [
    "import matplotlib.pyplot as plt\n",
    "plt.style.use('ggplot')\n",
    "import numpy as np\n",
    "from numpy import zeros_like\n",
    "from IPython.display import display\n",
    "def display_matrix(m):\n",
    "    display(sympy.Matrix(m))\n",
    "import sympy\n",
    "import pandas as pd\n",
    "import scipy.stats as ss\n",
    "\n",
    "sympy.init_printing()"
   ]
  },
  {
   "cell_type": "code",
   "execution_count": 12,
   "metadata": {},
   "outputs": [],
   "source": [
    "basis = 'leguerre'\n",
    "\n",
    "# parameters\n",
    "\n",
    "mu = 0.06\n",
    "r = 0.06\n",
    "T = 1\n",
    "I = 250\n",
    "paths = 10000\n",
    "S0 = 40\n",
    "S0_list = range(37, 43, 1)\n",
    "m = 0\n",
    "K = 40\n",
    "\n",
    "GBM_sigma = 0.04\n",
    "GBM_mu = r\n",
    "\n",
    "LN_lam = 1\n",
    "LN_sigma = 0.02\n",
    "LN_mu = r\n",
    "LN_v = 0.02\n",
    "\n",
    "JR_lam = 0.01\n",
    "JR_sigma = 0.03\n",
    "JR_mu = r + JR_lam\n",
    "\n",
    "LNparams = (LN_lam, LN_sigma, LN_mu, LN_v, m)\n",
    "JRparams = (JR_lam, JR_sigma, JR_mu)\n",
    "GBMparams = (GBM_mu, GBM_sigma)"
   ]
  },
  {
   "cell_type": "code",
   "execution_count": 13,
   "metadata": {},
   "outputs": [],
   "source": [
    "def merton_jump_to_ruin_paths_sample(S0, paths, I, T, lam, sigma, mu):\n",
    "    S0, paths, I, T = S0, paths, I, T\n",
    "    matrix = np.zeros((paths, I))\n",
    "    all_normals = []\n",
    "    for k in range(paths):\n",
    "        X = np.zeros(I)\n",
    "        S = np.zeros(I)\n",
    "        X[0] = np.log(S0)\n",
    "        S[0] = S0\n",
    "        dt = T / I\n",
    "        for i in range(1,I):\n",
    "            Z = np.random.standard_normal()\n",
    "            all_normals.append(Z)\n",
    "            N = np.random.poisson(lam * dt)\n",
    "            if N == 0 and X[i-1] > 0:\n",
    "                X[i] = X[i-1] + (mu - 0.5 * sigma ** 2) * dt + sigma * np.sqrt(dt) * Z\n",
    "                S[i] = np.exp(X[i])\n",
    "            else:\n",
    "                S[i] = 0\n",
    "        matrix[k] = S\n",
    "    mean_normal = np.mean(all_normals)\n",
    "    std_normal = np.std(all_normals)\n",
    "    return mean_normal, std_normal"
   ]
  },
  {
   "cell_type": "code",
   "execution_count": 14,
   "metadata": {},
   "outputs": [],
   "source": [
    "mean_normal_JR, std_normal_JR = merton_jump_to_ruin_paths_sample(S0, paths, I, T, *JRparams)"
   ]
  },
  {
   "cell_type": "code",
   "execution_count": 15,
   "metadata": {},
   "outputs": [],
   "source": [
    "def merton_jump_to_ruin_paths_mm(S0, paths, I, T, lam, sigma, mu, mean_normal_JR, std_normal_JR):\n",
    "    S0, paths, I, T = S0, paths, I, T\n",
    "    matrix = np.zeros((paths, I))\n",
    "    for k in range(paths):\n",
    "        X = np.zeros(I)\n",
    "        S = np.zeros(I)\n",
    "        X[0] = np.log(S0)\n",
    "        S[0] = S0\n",
    "        dt = T / I\n",
    "        for i in range(1,I):\n",
    "            Z = np.random.standard_normal()\n",
    "            N = np.random.poisson(lam * dt)\n",
    "            if N == 0 and X[i-1] > 0:\n",
    "                X[i] = X[i-1] + (mu - 0.5 * sigma ** 2) * dt + sigma * np.sqrt(dt) * (Z - mean_normal_JR) / std_normal_JR\n",
    "                S[i] = np.exp(X[i])\n",
    "            else:\n",
    "                S[i] = 0\n",
    "        matrix[k] = S\n",
    "    return matrix"
   ]
  },
  {
   "cell_type": "code",
   "execution_count": 16,
   "metadata": {},
   "outputs": [],
   "source": [
    "def LSM(K, S, I, df, basis, deg):\n",
    "    paths = len(S)\n",
    "    np.random.seed(42)\n",
    "    H = np.maximum(K - S, 0)  # intrinsic values for put option\n",
    "    V = np.zeros_like(H)  # value matrix\n",
    "    V[:, -1] = H[:, -1]  # set value at maturity equal to intrinsic value\n",
    "\n",
    "    # Valuation by LS Method\n",
    "    for t in range(I - 2, 0, -1):\n",
    "        good_paths = H[:, t] > 0  # paths where the intrinsic value is positive\n",
    "\n",
    "        if np.sum(good_paths) > 0:\n",
    "            if basis == 'poly':\n",
    "                rg = np.polyfit(S[good_paths, t], V[good_paths, t + 1] * df, deg)\n",
    "                C = np.polyval(rg, S[good_paths, t])\n",
    "            elif basis == 'legendre':\n",
    "                rg = np.polynomial.legendre.legfit(S[good_paths, t], V[good_paths, t + 1] * df, deg)\n",
    "                C = np.polynomial.legendre.legval(S[good_paths, t], rg)\n",
    "            elif basis =='laguerre':\n",
    "                rg = np.polynomial.laguerre.lagfit(S[good_paths, t], V[good_paths, t + 1] * df, deg)\n",
    "                C = np.polynomial.laguerre.lagval(S[good_paths, t], rg)\n",
    "            else:  # 'hermite'\n",
    "                rg = np.polynomial.hermite.hermfit(S[good_paths, t], V[good_paths, t + 1] * df, deg)\n",
    "                C = np.polynomial.hermite.hermval(S[good_paths, t], rg)\n",
    "\n",
    "            exercise = np.zeros(len(good_paths), dtype=bool)\n",
    "            exercise[good_paths] = H[good_paths, t] > C\n",
    "        else:\n",
    "            # If all intrinsic values are zero, mark all as non-exercise\n",
    "            exercise = np.zeros(len(good_paths), dtype=bool)\n",
    "\n",
    "        V[exercise, t] = H[exercise, t]\n",
    "        V[exercise, t + 1 :] = 0\n",
    "        discount_path = ~exercise\n",
    "        V[discount_path, t] = V[discount_path, t + 1] * df\n",
    "\n",
    "    V0 = np.mean(V[:, 1]) * df  # discounted expectation of V[t=1]\n",
    "    V0_array = V[:, 1] * df\n",
    "    SE = np.std(V[:, 1] * df) / np.sqrt(paths)\n",
    "    variance = np.var(V[:, 1] * df)\n",
    "    return V0, V0_array, SE, variance"
   ]
  },
  {
   "cell_type": "code",
   "execution_count": 17,
   "metadata": {},
   "outputs": [],
   "source": [
    "def merton_jump_to_ruin_paths(S0, paths, I, T, lam, sigma, mu):\n",
    "    S0, paths, I, T = S0, paths, I, T\n",
    "    matrix = np.zeros((paths, I))\n",
    "    for k in range(paths):\n",
    "        X = np.zeros(I)\n",
    "        S = np.zeros(I)\n",
    "        X[0] = np.log(S0)\n",
    "        S[0] = S0\n",
    "        dt = T / I\n",
    "        for i in range(1,I):\n",
    "            Z = np.random.standard_normal()\n",
    "            N = np.random.poisson(lam * dt)\n",
    "            if N == 0 and X[i-1] > 0:\n",
    "                X[i] = X[i-1] + (mu - 0.5 * sigma ** 2) * dt + sigma * np.sqrt(dt) * Z\n",
    "                S[i] = np.exp(X[i])\n",
    "            else:\n",
    "                S[i] = 0\n",
    "        matrix[k] = S\n",
    "    return matrix"
   ]
  },
  {
   "cell_type": "code",
   "execution_count": 18,
   "metadata": {},
   "outputs": [
    {
     "name": "stdout",
     "output_type": "stream",
     "text": [
      "JR_mm: V0 = 0.0647, SE = 0.0057, variance = 0.3259\n",
      "JR: V0 = 0.0693, SE = 0.0067, variance = 0.4523\n"
     ]
    }
   ],
   "source": [
    "JR_mm = merton_jump_to_ruin_paths_mm(S0, paths, I, T, *JRparams, mean_normal_JR, std_normal_JR)\n",
    "JR = merton_jump_to_ruin_paths(S0, paths, I, T, *JRparams)\n",
    "\n",
    "V0_JR_mm, V0_array_JR_mm, SE_JR_mm, variance_JR_mm = LSM(K, JR_mm, I, np.exp(-r * T), basis, 3)\n",
    "V0_JR, V0_array_JR, SE_JR, variance_JR = LSM(K, JR, I, np.exp(-r * T), basis, 3)\n",
    "\n",
    "print('JR_mm: V0 = {:.4f}, SE = {:.4f}, variance = {:.4f}'.format(V0_JR_mm, SE_JR_mm, variance_JR_mm))\n",
    "print('JR: V0 = {:.4f}, SE = {:.4f}, variance = {:.4f}'.format(V0_JR, SE_JR, variance_JR))"
   ]
  }
 ],
 "metadata": {
  "kernelspec": {
   "display_name": "base",
   "language": "python",
   "name": "python3"
  },
  "language_info": {
   "codemirror_mode": {
    "name": "ipython",
    "version": 3
   },
   "file_extension": ".py",
   "mimetype": "text/x-python",
   "name": "python",
   "nbconvert_exporter": "python",
   "pygments_lexer": "ipython3",
   "version": "3.9.13"
  }
 },
 "nbformat": 4,
 "nbformat_minor": 2
}
