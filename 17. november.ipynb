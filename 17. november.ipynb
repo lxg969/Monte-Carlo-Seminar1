{
 "cells": [
  {
   "cell_type": "code",
   "execution_count": 218,
   "metadata": {},
   "outputs": [],
   "source": [
    "import matplotlib.pyplot as plt\n",
    "plt.style.use('ggplot')\n",
    "import numpy as np\n",
    "from IPython.display import display\n",
    "def display_matrix(m):\n",
    "    display(sympy.Matrix(m))\n",
    "import sympy\n",
    "import pandas as pd\n",
    "import scipy.stats as ss\n",
    "\n",
    "sympy.init_printing()"
   ]
  },
  {
   "cell_type": "code",
   "execution_count": 219,
   "metadata": {},
   "outputs": [],
   "source": [
    "def matrix(S0, paths, lam, sigma, mu, v, m, T, I):\n",
    "    np.random.seed(42)\n",
    "    df = np.exp(-mu*T)\n",
    "    matrix = np.zeros((paths, I))\n",
    "    for k in range(paths):\n",
    "        X = np.zeros(I)\n",
    "        S = np.zeros(I)\n",
    "        \n",
    "        X[0] = np.log(S0)\n",
    "        S[0] = S0\n",
    "        dt = T / I\n",
    "    \n",
    "        for i in range(1,I):\n",
    "            Z = np.random.standard_normal()\n",
    "            N = np.random.poisson(lam * dt)\n",
    "            Y = np.exp(np.random.normal(m,v,N))\n",
    "    \n",
    "            if N == 0:\n",
    "                M = 0\n",
    "    \n",
    "            else:\n",
    "                for j in range(N):\n",
    "                    M = np.sum(np.log(Y))\n",
    "                    \n",
    "            X[i] = X[i-1] + (mu - 0.5 * sigma ** 2) * dt + sigma * np.sqrt(dt) * Z + M\n",
    "            S[i] = np.exp(X[i])\n",
    "        matrix[k] = S\n",
    "    return matrix\n",
    "\n",
    "\n",
    "# drop model\n",
    "\n",
    "def drop(S0, paths, lam, sigma, mu, v, m, T, I):\n",
    "    np.random.seed(42)\n",
    "    df = np.exp(-mu*T)\n",
    "    matrix = np.zeros((paths, I))\n",
    "    for k in range(paths):\n",
    "        X = np.zeros(I)\n",
    "        S = np.zeros(I)\n",
    "\n",
    "        X[0] = np.log(S0)\n",
    "        S[0] = S0\n",
    "        dt = T / I\n",
    "    \n",
    "        for i in range(1,I):\n",
    "            Z = np.random.standard_normal()\n",
    "            N = np.random.poisson(lam * dt)\n",
    "            Y = np.exp(np.random.normal(m,v,N))\n",
    "    \n",
    "            if N == 0 and X[i-1] > 0:\n",
    "                X[i] = X[i-1] + (mu - 0.5 * sigma ** 2) * dt + sigma * np.sqrt(dt) * Z\n",
    "                S[i] = np.exp(X[i])\n",
    "            else:\n",
    "                S[i] = 0\n",
    "        matrix[k] = S\n",
    "    return matrix"
   ]
  },
  {
   "cell_type": "code",
   "execution_count": 220,
   "metadata": {},
   "outputs": [],
   "source": [
    "#S_GBM = matrix(S0, paths, lam=0, sigma=0.04, mu=0.06, v=0)\n",
    "#S_Merton = matrix(S0, paths, lam=2, sigma=0.02, mu=0.06, v=0.02)\n",
    "#S_Drop = drop(S0, paths, lam=0.05, sigma=0.03, mu=0.07)\n",
    "#print(S_GBM.shape, S_Merton.shape, S_Drop.shape)"
   ]
  },
  {
   "cell_type": "markdown",
   "metadata": {},
   "source": [
    "# LSM pricing algorithm"
   ]
  },
  {
   "cell_type": "code",
   "execution_count": 221,
   "metadata": {},
   "outputs": [],
   "source": [
    "def LSM(K, S, I, df, basis, deg):\n",
    "    H = np.maximum(K - S, 0)  # intrinsic values for put option\n",
    "    V = np.zeros_like(H)  # value matrix\n",
    "    V[:, -1] = H[:, -1] # set value at maturity equal to intrinsic value\n",
    "    np.random.seed(1)\n",
    "    # Valuation by LS Method\n",
    "    for t in range(I - 2, 0, -1): #start at t = I-2 and go backwards (since we already set t = I-1 to intrinsic value)\n",
    "        good_paths = H[:, t] > 0  # paths where the intrinsic value is positive\n",
    "        # the regression is performed only on these paths\n",
    "        if basis == 'poly':\n",
    "            if np.sum(good_paths) > deg:\n",
    "                rg = np.polyfit(S[good_paths, t], V[good_paths, t + 1] * df, deg)\n",
    "                C = np.polyval(rg, S[good_paths, t])\n",
    "            else:\n",
    "                continue\n",
    "        elif basis == 'legendre':\n",
    "            if np.sum(good_paths) > deg:\n",
    "                rg = np.polynomial.legendre.legfit(S[good_paths, t], V[good_paths, t + 1] * df, deg)\n",
    "                C = np.polynomial.legendre.legval(S[good_paths, t], rg)\n",
    "            else:\n",
    "                continue\n",
    "        elif basis =='laguerre':\n",
    "            if np.sum(good_paths) > deg:\n",
    "                rg = np.polynomial.laguerre.lagfit(S[good_paths, t], V[good_paths, t + 1] * df, deg)\n",
    "                C = np.polynomial.laguerre.lagval(S[good_paths, t], rg)\n",
    "            else:\n",
    "                continue\n",
    "        else:\n",
    "            if np.sum(good_paths) > deg:\n",
    "                rg = np.polynomial.hermite.hermfit(S[good_paths, t], V[good_paths, t + 1] * df, deg)\n",
    "                C = np.polynomial.hermite.hermval(S[good_paths, t], rg)\n",
    "            else:\n",
    "                continue\n",
    "\n",
    "        exercise = np.zeros(len(good_paths), dtype=bool)  # initialize\n",
    "        exercise[good_paths] = H[good_paths, t] > C  # paths where it is optimal to exercise\n",
    "\n",
    "        V[exercise, t] = H[exercise, t]  # set V equal to H where it is optimal to exercise\n",
    "        V[exercise, t + 1 :] = 0  # set future cash flows, for that path, equal to zero\n",
    "        discount_path = V[:, t] == 0  # paths where we didn't exercise\n",
    "        V[discount_path, t] = V[discount_path, t + 1] * df  # set V[t] in continuation region\n",
    "\n",
    "    V0 = np.mean(V[:, 1]) * df  # discounted expectation of V[t=1]\n",
    "    return V0"
   ]
  },
  {
   "cell_type": "code",
   "execution_count": 222,
   "metadata": {},
   "outputs": [],
   "source": [
    "deg = 3\n",
    "basis = 'legendre'\n",
    "#initial price list\n",
    "S0_list = np.arange(97, 104 , 1)\n",
    "K = 100"
   ]
  },
  {
   "cell_type": "markdown",
   "metadata": {},
   "source": [
    "S_GBM = matrix(paths, lam=0, sigma=0.04, mu=0.06, v=0)\n",
    "S_Merton = matrix(paths, lam=2, sigma=0.02, mu=0.06, v=0.02)\n",
    "S_Drop = drop(paths, lam=0.05, sigma=0.03, mu=0.07)\n",
    "print(S_GBM.shape, S_Merton.shape, S_Drop.shape)"
   ]
  },
  {
   "cell_type": "markdown",
   "metadata": {},
   "source": [
    "# Simulation"
   ]
  },
  {
   "cell_type": "code",
   "execution_count": 223,
   "metadata": {},
   "outputs": [],
   "source": [
    "mu = 0.02\n",
    "T = 1\n",
    "I = 50\n",
    "paths = 500000\n",
    "m = 0\n",
    "\n",
    "GBM_lam = 0\n",
    "GBM_sigma = 0.04\n",
    "GBM_mu = mu\n",
    "GBM_v = 0\n",
    "\n",
    "Merton_lam = 1\n",
    "Merton_sigma = 0.02\n",
    "Merton_mu = mu\n",
    "Merton_v = 0.02\n",
    "\n",
    "Drop_lam = 0.01\n",
    "Drop_sigma = 0.03\n",
    "Drop_mu = 0.01\n",
    "\n",
    "df = np.exp(-mu*T)"
   ]
  },
  {
   "cell_type": "code",
   "execution_count": 224,
   "metadata": {},
   "outputs": [],
   "source": [
    "## Initialize containers for storing matrices\n",
    "#GBM_matrices = {}\n",
    "#Merton_matrices = {}\n",
    "#Drop_matrices = {}\n",
    "#\n",
    "## Iterate over each S0 in S0_list\n",
    "#for S0 in S0_list:\n",
    "#    # Generate GBM matrix\n",
    "#    GBM_matrices[S0] = matrix(S0, paths, lam=GBM_lam, sigma=GBM_sigma, mu=GBM_mu, v=GBM_v)\n",
    "#    \n",
    "#    # Generate Merton matrix\n",
    "#    Merton_matrices[S0] = matrix(S0, paths, lam=Merton_lam, sigma=Merton_sigma, mu=Merton_mu, v=Merton_v)\n",
    "#    \n",
    "#    # Generate Drop matrix\n",
    "#    Drop_matrices[S0] = drop(S0, paths, lam=Drop_lam, sigma=Drop_sigma, mu=Drop_mu)\n",
    "#"
   ]
  },
  {
   "cell_type": "code",
   "execution_count": 225,
   "metadata": {},
   "outputs": [
    {
     "name": "stderr",
     "output_type": "stream",
     "text": [
      "/Users/philipgadereumert/opt/anaconda3/lib/python3.9/site-packages/numpy/polynomial/legendre.py:1411: RankWarning: The fit may be poorly conditioned\n",
      "  return pu._fit(legvander, x, y, deg, rcond, full, w)\n"
     ]
    }
   ],
   "source": [
    "# Containers for storing matrices\n",
    "GBM_matrices = {}\n",
    "Merton_matrices = {}\n",
    "Drop_matrices = {}\n",
    "\n",
    "# Containers for storing prices\n",
    "GBM_prices = []\n",
    "Merton_prices = []\n",
    "Drop_prices = []\n",
    "\n",
    "# Generate matrices and calculate prices for each S0 in S0_list\n",
    "for S0 in S0_list:\n",
    "    # Generate matrices\n",
    "    GBM_matrices[S0] = matrix(S0, paths, lam=GBM_lam, sigma=GBM_sigma, mu=GBM_mu, v=GBM_v, m=m, T=T, I=I)\n",
    "    Merton_matrices[S0] = matrix(S0, paths, lam=Merton_lam, sigma=Merton_sigma, mu=Merton_mu, v=Merton_v, T=T, I=I, m=m)\n",
    "    Drop_matrices[S0] = drop(S0, paths, lam=Drop_lam, sigma=Drop_sigma, mu=Drop_mu, T=T, I=I, m=m, v=0)\n",
    "\n",
    "    # Calculate prices for each stock model\n",
    "    GBM_price = LSM(K, GBM_matrices[S0], I, df, basis, deg)\n",
    "    Merton_price = LSM(K, Merton_matrices[S0], I, df, basis, deg)\n",
    "    Drop_price = LSM(K, Drop_matrices[S0], I, df, basis, deg)\n",
    "\n",
    "    #calculate the standard error\n",
    "    GBM_SE = ss.sem(GBM_matrices[S0][:, -1])\n",
    "    Merton_SE = ss.sem(Merton_matrices[S0][:, -1])\n",
    "    Drop_SE = ss.sem(Drop_matrices[S0][:, -1])\n",
    "\n",
    "    # Store the prices\n",
    "    GBM_prices.append(GBM_price)\n",
    "    Merton_prices.append(Merton_price)\n",
    "    Drop_prices.append(Drop_price)"
   ]
  },
  {
   "cell_type": "code",
   "execution_count": 226,
   "metadata": {},
   "outputs": [],
   "source": [
    "#print the H matrix for each model\n",
    "#display_matrix(GBM_matrices[100]) \n",
    "#display_matrix(Merton_matrices[100])\n",
    "#display_matrix(Drop_matrices[100])\n"
   ]
  },
  {
   "cell_type": "markdown",
   "metadata": {},
   "source": [
    "# European Closed"
   ]
  },
  {
   "cell_type": "code",
   "execution_count": 227,
   "metadata": {},
   "outputs": [],
   "source": [
    "def closed_formula_GBM(S0, mu, sigma, T, K):\n",
    "    \"\"\"\n",
    "    Black Scholes closed formula:\n",
    "    \"\"\"\n",
    "    d1 = (np.log(S0 / K) + (mu + sigma**2 / 2) * T) / (sigma * np.sqrt(T))\n",
    "    d2 = d1 - sigma * np.sqrt(T)\n",
    "    return K * np.exp(-mu * T) * ss.norm.cdf(-d2) - S0 * ss.norm.cdf(-d1)\n",
    "\n",
    "def closed_formula_GBM_call(S0, mu, sigma, T, K):\n",
    "    \"\"\"\n",
    "    Black Scholes closed formula:\n",
    "    \"\"\"\n",
    "    d1 = (np.log(S0 / K) + (mu + sigma**2 / 2) * T) / (sigma * np.sqrt(T))\n",
    "    d2 = d1 - sigma * np.sqrt(T)\n",
    "    return S0 * ss.norm.cdf(d1) - K * np.exp(-mu * T) * ss.norm.cdf(d2)\n",
    "\n",
    "def closed_formula_Merton(S0):\n",
    "    m = Merton_lam * (np.exp(Merton_mu + (Merton_sigma**2) / 2) - 1)\n",
    "    lam2 = Merton_lam * np.exp(Merton_mu + Merton_sigma**2) / 2\n",
    "    v = Merton_v\n",
    "\n",
    "    tot = 0\n",
    "    for k in range(18):\n",
    "        tot += (np.exp(-lam2 * T) * (lam2 * T) ** k / np.math.factorial(k)) * closed_formula_GBM(\n",
    "        S0,\n",
    "        Merton_mu - m + k * (Merton_mu + 0.5 * Merton_sigma**2) / T,\n",
    "        np.sqrt(Merton_sigma**2 + k * v**2 / T),\n",
    "        T,\n",
    "        K\n",
    "        )\n",
    "        return tot\n",
    "    \n",
    "def closed_formula_Call_Drop(S0):\n",
    "    return np.exp(-Drop_lam * T) * closed_formula_GBM_call(S0, Drop_mu, Drop_sigma, T, K)\n",
    "\n",
    "def closed_formula_Put_Drop(S0):\n",
    "    return closed_formula_Call_Drop(S0) - S0 + K * np.exp(-Drop_mu * T)"
   ]
  },
  {
   "cell_type": "code",
   "execution_count": 228,
   "metadata": {},
   "outputs": [
    {
     "name": "stdout",
     "output_type": "stream",
     "text": [
      "Standard errors:\n",
      "GBM:  0.1454053740319959\n",
      "Merton:  0.15382642633645235\n",
      "Drop:  0.21967155691987067\n"
     ]
    }
   ],
   "source": [
    "#calculate the standard errors for each simulation\n",
    "GBM_std = np.std(GBM_prices) / np.sqrt(len(GBM_prices))\n",
    "Merton_std = np.std(Merton_prices) / np.sqrt(len(Merton_prices))\n",
    "Drop_std = np.std(Drop_prices) / np.sqrt(len(Drop_prices))\n",
    "\n",
    "GBM_se = GBM_std / np.sqrt(len(GBM_prices))\n",
    "Merton_se = Merton_std / np.sqrt(len(Merton_prices))\n",
    "Drop_se = Drop_std / np.sqrt(len(Drop_prices))\n",
    "\n",
    "print('Standard errors:')\n",
    "print('GBM: ', GBM_se)\n",
    "print('Merton: ', Merton_se)\n",
    "print('Drop: ', Drop_se)"
   ]
  },
  {
   "cell_type": "code",
   "execution_count": 229,
   "metadata": {},
   "outputs": [
    {
     "name": "stdout",
     "output_type": "stream",
     "text": [
      "S0 = 97:,    se = 0.1454053740319959\n",
      "  GBM Price: 2.832942384498101,   se = 0.1454053740319959\n",
      "  Merton Price: 2.8795827369173383,  se = 0.15382642633645235\n",
      "  Drop Price: 3.792385842031482, se = 0.21967155691987067\n",
      "  European_GBM: 2.118745615167974\n",
      "  European_Merton: 1.8246842557031093\n",
      "  European_Drop: 1.1280078975319867\n",
      "\n",
      "S0 = 98:,    se = 0.1454053740319959\n",
      "  GBM Price: 1.9097094569285735,   se = 0.1454053740319959\n",
      "  Merton Price: 1.9027462141091458,  se = 0.15382642633645235\n",
      "  Drop Price: 2.9960326091781737, se = 0.21967155691987067\n",
      "  European_GBM: 1.5738617406084288\n",
      "  European_Merton: 1.46416191041656\n",
      "  European_Drop: 0.6678627043308865\n",
      "\n",
      "S0 = 99:,    se = 0.1454053740319959\n",
      "  GBM Price: 1.1637471960906758,   se = 0.1454053740319959\n",
      "  Merton Price: 0.9319612912187872,  se = 0.15382642633645235\n",
      "  Drop Price: 2.8458729182017968, se = 0.21967155691987067\n",
      "  European_GBM: 1.1301920187930676\n",
      "  European_Merton: 1.1036395651300108\n",
      "  European_Drop: 0.3284899112938433\n",
      "\n",
      "S0 = 100:,    se = 0.1454053740319959\n",
      "  GBM Price: 0.7701324090502844,   se = 0.1454053740319959\n",
      "  Merton Price: 0.0,  se = 0.15382642633645235\n",
      "  Drop Price: 2.417032685545197, se = 0.21967155691987067\n",
      "  European_GBM: 0.7832339055676059\n",
      "  European_Merton: 0.7431172198434615\n",
      "  European_Drop: 0.09006109153136777\n",
      "\n",
      "S0 = 101:,    se = 0.1454053740319959\n",
      "  GBM Price: 0.0,   se = 0.1454053740319959\n",
      "  Merton Price: 0.0,  se = 0.15382642633645235\n",
      "  Drop Price: 0.0, se = 0.21967155691987067\n",
      "  European_GBM: 0.523098419314671\n",
      "  European_Merton: 0.38259487455691216\n",
      "  European_Drop: -0.07271587675984392\n",
      "\n",
      "S0 = 102:,    se = 0.1454053740319959\n",
      "  GBM Price: 0.0,   se = 0.1454053740319959\n",
      "  Merton Price: 0.0,  se = 0.15382642633645235\n",
      "  Drop Price: 0.0, se = 0.21967155691987067\n",
      "  European_GBM: 0.33632927874920426\n",
      "  European_Merton: 0.022072529270362847\n",
      "  European_Drop: -0.1844949074076112\n",
      "\n",
      "S0 = 103:,    se = 0.1454053740319959\n",
      "  GBM Price: 0.0,   se = 0.1454053740319959\n",
      "  Merton Price: 0.0,  se = 0.15382642633645235\n",
      "  Drop Price: 0.0, se = 0.21967155691987067\n",
      "  European_GBM: 0.20801700033639747\n",
      "  European_Merton: 0.0\n",
      "  European_Drop: -0.2652569204472428\n",
      "\n"
     ]
    },
    {
     "name": "stderr",
     "output_type": "stream",
     "text": [
      "/var/folders/3l/9tdvgjyd6v12z560tdqxmwlm0000gn/T/ipykernel_10765/2406351361.py:5: RuntimeWarning: divide by zero encountered in double_scalars\n",
      "  d1 = (np.log(S0 / K) + (mu + sigma**2 / 2) * T) / (sigma * np.sqrt(T))\n"
     ]
    }
   ],
   "source": [
    "# Print the V0 price for each model and each S0\n",
    "for i, S0 in enumerate(S0_list):\n",
    "    print(f\"S0 = {S0}:,    se = {GBM_se}\")\n",
    "    print(f\"  GBM Price: {GBM_prices[i]},   se = {GBM_se}\")\n",
    "    print(f\"  Merton Price: {Merton_prices[i]},  se = {Merton_se}\")\n",
    "    print(f\"  Drop Price: {Drop_prices[i]}, se = {Drop_se}\")\n",
    "    print(f\"  European_GBM: {closed_formula_GBM(S0, GBM_mu, GBM_sigma, T, K)}\")\n",
    "    print(f\"  European_Merton: {closed_formula_Merton(S0)}\")\n",
    "    print(f\"  European_Drop: {closed_formula_Put_Drop(S0)}\")\n",
    "    print()"
   ]
  },
  {
   "cell_type": "code",
   "execution_count": 230,
   "metadata": {},
   "outputs": [
    {
     "data": {
      "image/png": "[encoded data removed]",
      "text/plain": [
       "<Figure size 1200x800 with 1 Axes>"
      ]
     },
     "metadata": {},
     "output_type": "display_data"
    }
   ],
   "source": [
    "#plot the early exercise boundary for each model\n",
    "\n",
    "#GBM\n",
    "GBM_EEB = []\n",
    "for S0 in S0_list:\n",
    "    GBM_EEB.append(np.mean(GBM_matrices[S0] > K, axis=0))\n",
    "GBM_EEB = np.array(GBM_EEB)\n",
    "\n",
    "#Merton\n",
    "Merton_EEB = []\n",
    "for S0 in S0_list:\n",
    "    Merton_EEB.append(np.mean(Merton_matrices[S0] > K, axis=0))\n",
    "Merton_EEB = np.array(Merton_EEB)\n",
    "\n",
    "#Drop\n",
    "Drop_EEB = []\n",
    "for S0 in S0_list:\n",
    "    Drop_EEB.append(np.mean(Drop_matrices[S0] > K, axis=0))\n",
    "Drop_EEB = np.array(Drop_EEB)\n",
    "\n",
    "#plot the early exercise boundary for each model\n",
    "plt.figure(figsize=(12,8))\n",
    "plt.plot(np.arange(I), GBM_EEB[0], label='GBM')\n",
    "plt.plot(np.arange(I), Merton_EEB[0], label='Merton')\n",
    "plt.plot(np.arange(I), Drop_EEB[0], label='Drop')\n",
    "plt.legend()\n",
    "plt.title('Early Exercise Boundary')\n",
    "plt.xlabel('Time')\n",
    "plt.ylabel('Probability of Exercise')\n",
    "plt.show()"
   ]
  },
  {
   "cell_type": "code",
   "execution_count": null,
   "metadata": {},
   "outputs": [],
   "source": []
  }
 ],
 "metadata": {
  "kernelspec": {
   "display_name": "base",
   "language": "python",
   "name": "python3"
  },
  "language_info": {
   "codemirror_mode": {
    "name": "ipython",
    "version": 3
   },
   "file_extension": ".py",
   "mimetype": "text/x-python",
   "name": "python",
   "nbconvert_exporter": "python",
   "pygments_lexer": "ipython3",
   "version": "3.9.13"
  }
 },
 "nbformat": 4,
 "nbformat_minor": 2
}
