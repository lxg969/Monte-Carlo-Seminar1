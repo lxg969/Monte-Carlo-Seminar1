{
 "cells": [
  {
   "cell_type": "code",
   "execution_count": 28,
   "metadata": {},
   "outputs": [],
   "source": [
    "from BS_pricer import BS_pricer\n",
    "from Parameters import Option_param\n",
    "from Processes import Diffusion_process\n",
    "from Merton_pricer import Merton_pricer\n",
    "from Processes import Diffusion_process, Merton_process, VG_process, NIG_process\n",
    "from VG_pricer import VG_pricer\n",
    "from NIG_pricer import NIG_pricer\n",
    "\n",
    "import numpy as np\n",
    "import scipy.stats as ss\n",
    "from scipy.integrate import quad\n",
    "from functools import partial\n",
    "\n",
    "import matplotlib.pyplot as plt\n"
   ]
  },
  {
   "cell_type": "code",
   "execution_count": 18,
   "metadata": {},
   "outputs": [],
   "source": [
    "S0 = 100.0  # spot stock price\n",
    "K = 100.0  # strike\n",
    "T = 1.0  # maturity\n",
    "r = 0.1  # risk free rate\n",
    "sig = 0.2  # diffusion coefficient or volatility\n",
    "N = 10000000  # number of generated random variables\n",
    "k = np.log(K / S0)  # log moneyness\n",
    "theta = -0.11  # drift of the Brownian motion\n",
    "sigma = 0.2  # volatility of the Brownian motion\n",
    "kappa = 0.3  # variance of the IG process\n",
    "lam = T**2 / kappa  # scale\n",
    "mu_s = T / lam  # scaled mu"
   ]
  },
  {
   "cell_type": "code",
   "execution_count": 19,
   "metadata": {},
   "outputs": [
    {
     "name": "stdout",
     "output_type": "stream",
     "text": [
      "Call price:  13.269676584660893\n",
      "Put price:  3.753418388256833\n"
     ]
    }
   ],
   "source": [
    "call = BS_pricer.BlackScholes(\"call\", S0, K, T, r, sig)\n",
    "put = BS_pricer.BlackScholes(\"put\", S0, K, T, r, sig)\n",
    "print(\"Call price: \", call)\n",
    "print(\"Put price: \", put)"
   ]
  },
  {
   "cell_type": "code",
   "execution_count": 20,
   "metadata": {},
   "outputs": [
    {
     "name": "stdout",
     "output_type": "stream",
     "text": [
      "13.269676584660893\n",
      "13.269676584660886\n"
     ]
    }
   ],
   "source": [
    "print(call)\n",
    "print(put + S0 - K * np.exp(-r * T))"
   ]
  },
  {
   "cell_type": "markdown",
   "metadata": {},
   "source": [
    "<a id='sec3'></a>\n",
    "## Monte Carlo method\n",
    "\n",
    "I'm going to simulate the random variables: \n",
    "\n",
    "$$ S_T^i = S_0 e^{(r -\\frac{1}{2}\\sigma^2)T + \\sigma W_{T}^i} $$\n",
    "\n",
    "for $1 \\leq i \\leq N$.    \n",
    "Then use the approximation for a call option:\n",
    "\n",
    "$$ \\mathbb{E}^{\\mathbb{Q}}\\biggl[ (S_T - K)^+ \\bigg| S_0 \\biggr] \\; \n",
    "\\approx \\; \\frac{1}{N} \\sum_{i=1}^N (S_T^i - K)^+\n",
    "$$\n",
    "\n",
    "For a put option I use this payoff $(K - S_T )^+$ inside the expectation."
   ]
  },
  {
   "cell_type": "code",
   "execution_count": 21,
   "metadata": {},
   "outputs": [],
   "source": [
    "np.random.seed(seed=44)  # seed for random number generation\n",
    "N = 10000000  # Number of random variables\n",
    "\n",
    "W = ss.norm.rvs((r - 0.5 * sig**2) * T, np.sqrt(T) * sig, N)\n",
    "S_T = S0 * np.exp(W)\n",
    "\n",
    "call = np.mean(np.exp(-r * T) * np.maximum(S_T - K, 0))\n",
    "put = np.mean(np.exp(-r * T) * np.maximum(K - S_T, 0))\n",
    "call_err = ss.sem(np.exp(-r * T) * np.maximum(S_T - K, 0))  # standard error\n",
    "put_err = ss.sem(np.exp(-r * T) * np.maximum(K - S_T, 0))  # standard error"
   ]
  },
  {
   "cell_type": "code",
   "execution_count": 22,
   "metadata": {},
   "outputs": [
    {
     "name": "stdout",
     "output_type": "stream",
     "text": [
      "Call price: 13.26333800663666, with error: 0.005093638687208466\n",
      "Put price: 3.7553894006350084, with error: 0.002214066662789331\n"
     ]
    }
   ],
   "source": [
    "print(\"Call price: {}, with error: {}\".format(call, call_err))\n",
    "print(\"Put price: {}, with error: {}\".format(put, put_err))"
   ]
  },
  {
   "cell_type": "markdown",
   "metadata": {},
   "source": [
    "\\begin{equation}\n",
    "X_t = \\mu t + \\sigma W_t + \\sum_{i=1}^{N_t} Y_i, \n",
    "\\end{equation}\n",
    "\n",
    "where $N_t$ is a Poisson random variable representing the number of jumps of $X_t$ up to time $t$, and $Y_i \\sim \\mathcal{N}(\\alpha, \\xi^2)$ is the size of each jump."
   ]
  },
  {
   "cell_type": "code",
   "execution_count": 23,
   "metadata": {},
   "outputs": [],
   "source": [
    "opt_param = Option_param(S0=100, K=100, T=1, exercise=\"European\", payoff=\"call\")\n",
    "opt_param_p = Option_param(S0=100, K=100, T=1, exercise=\"European\", payoff=\"put\")\n",
    "\n",
    "Merton_param = Merton_process(r=0.1, sig=0.2, lam=0.8, muJ=0, sigJ=0.5)\n",
    "Merton = Merton_pricer(opt_param, Merton_param)"
   ]
  },
  {
   "cell_type": "code",
   "execution_count": 24,
   "metadata": {},
   "outputs": [
    {
     "data": {
      "text/plain": [
       "(array([22.05548142]), array([0.05731805]), 26.648557662963867)"
      ]
     },
     "execution_count": 24,
     "metadata": {},
     "output_type": "execute_result"
    }
   ],
   "source": [
    "Merton.MC(1000000, Err=True, Time=True)"
   ]
  },
  {
   "cell_type": "code",
   "execution_count": 25,
   "metadata": {},
   "outputs": [],
   "source": [
    "# Creates the object with the parameters of the option\n",
    "opt_param = Option_param(S0=100, K=100, T=1, exercise=\"European\", payoff=\"call\")\n",
    "# Creates the object with the parameters of the process\n",
    "VG_param = VG_process(r=0.1, sigma=0.2, theta=-0.1, kappa=0.3)\n",
    "# Creates the VG pricer\n",
    "VG = VG_pricer(opt_param, VG_param)"
   ]
  },
  {
   "cell_type": "code",
   "execution_count": 26,
   "metadata": {},
   "outputs": [
    {
     "data": {
      "text/plain": [
       "(array([13.40104561]), array([0.00348222]), 2.314268112182617)"
      ]
     },
     "execution_count": 26,
     "metadata": {},
     "output_type": "execute_result"
    }
   ],
   "source": [
    "VG.MC(20000000, Err=True, Time=True)"
   ]
  },
  {
   "cell_type": "code",
   "execution_count": null,
   "metadata": {},
   "outputs": [],
   "source": [
    "w = (1 - np.sqrt(1 - 2 * theta * kappa - kappa * sigma**2)) / kappa  # Martingale correction\n",
    "dev_X = np.sqrt(sigma**2 + theta**2 * kappa)  # std dev NIG process"
   ]
  },
  {
   "cell_type": "code",
   "execution_count": 32,
   "metadata": {},
   "outputs": [],
   "source": [
    "opt_param = Option_param(exercise =\"European\", payoff=\"call\")\n",
    "NIG_param = NIG_process()\n",
    "NIG = NIG_pricer(opt_param, NIG_param)"
   ]
  },
  {
   "cell_type": "code",
   "execution_count": 33,
   "metadata": {},
   "outputs": [
    {
     "data": {
      "text/plain": [
       "(1.9964473756889853, array([0.00053435]), 2.562917947769165)"
      ]
     },
     "execution_count": 33,
     "metadata": {},
     "output_type": "execute_result"
    }
   ],
   "source": [
    "NIG.MC(20000000, Err=True, Time=True)"
   ]
  },
  {
   "cell_type": "code",
   "execution_count": null,
   "metadata": {},
   "outputs": [],
   "source": []
  }
 ],
 "metadata": {
  "kernelspec": {
   "display_name": "base",
   "language": "python",
   "name": "python3"
  },
  "language_info": {
   "codemirror_mode": {
    "name": "ipython",
    "version": 3
   },
   "file_extension": ".py",
   "mimetype": "text/x-python",
   "name": "python",
   "nbconvert_exporter": "python",
   "pygments_lexer": "ipython3",
   "version": "3.9.13"
  },
  "orig_nbformat": 4
 },
 "nbformat": 4,
 "nbformat_minor": 2
}
