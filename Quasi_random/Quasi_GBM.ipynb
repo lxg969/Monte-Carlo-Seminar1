{
 "cells": [
  {
   "cell_type": "code",
   "execution_count": 20,
   "metadata": {},
   "outputs": [],
   "source": [
    "import matplotlib.pyplot as plt\n",
    "plt.style.use('ggplot')\n",
    "import numpy as np\n",
    "from numpy import zeros_like\n",
    "from IPython.display import display\n",
    "def display_matrix(m):\n",
    "    display(sympy.Matrix(m))\n",
    "import sympy\n",
    "import pandas as pd\n",
    "import scipy.stats as ss\n",
    "from scipy.stats.qmc import Sobol\n",
    "from scipy.stats import norm\n",
    "\n",
    "sympy.init_printing()"
   ]
  },
  {
   "cell_type": "code",
   "execution_count": 21,
   "metadata": {},
   "outputs": [],
   "source": [
    "basis = 'leguerre'\n",
    "\n",
    "# parameters\n",
    "\n",
    "mu = 0.06\n",
    "r = 0.06\n",
    "T = 1\n",
    "I = 250\n",
    "paths = 10\n",
    "S0 = 40\n",
    "S0_list = range(37, 43, 1)\n",
    "m = 0\n",
    "K = 40\n",
    "\n",
    "GBM_sigma = 0.04\n",
    "GBM_mu = r\n",
    "\n",
    "LN_lam = 1\n",
    "LN_sigma = 0.02\n",
    "LN_mu = r\n",
    "LN_v = 0.02\n",
    "\n",
    "JR_lam = 0.01\n",
    "JR_sigma = 0.03\n",
    "JR_mu = r + JR_lam\n",
    "\n",
    "LNparams = (LN_lam, LN_sigma, LN_mu, LN_v, m)\n",
    "JRparams = (JR_lam, JR_sigma, JR_mu)\n",
    "GBMparams = (GBM_mu, GBM_sigma)"
   ]
  },
  {
   "cell_type": "code",
   "execution_count": 39,
   "metadata": {},
   "outputs": [],
   "source": [
    "number_of_samples = I * paths\n",
    "\n",
    "# Create a Sobol sequence generator\n",
    "sobol = Sobol(d=1, scramble=True)  # 1-dimensional sequence\n",
    "\n",
    "# Generate quasi-random numbers in the range [0, 1]\n",
    "quasi_random_uniform = sobol.random_base2(m=int(np.log2(number_of_samples)))\n",
    "\n",
    "# Transform the quasi-random numbers to a normal distribution\n",
    "# Using the Percent Point Function (PPF), which is the inverse of the CDF\n",
    "quasi_random_normal = norm.ppf(quasi_random_uniform)"
   ]
  },
  {
   "cell_type": "code",
   "execution_count": 40,
   "metadata": {},
   "outputs": [
    {
     "data": {
      "image/png": "[encoded data removed]",
      "text/plain": [
       "<Figure size 640x480 with 1 Axes>"
      ]
     },
     "metadata": {},
     "output_type": "display_data"
    }
   ],
   "source": [
    "#plot the distribution\n",
    "fig, ax = plt.subplots()\n",
    "ax.hist(quasi_random_normal, bins=100, density=True)\n",
    "ax.set_title('Quasi-random normal distribution')\n",
    "ax.set_xlabel('x')\n",
    "ax.set_ylabel('density')\n",
    "plt.show()\n"
   ]
  },
  {
   "cell_type": "code",
   "execution_count": 24,
   "metadata": {},
   "outputs": [],
   "source": [
    "def generate_quasi_random_normal(number_of_samples):\n",
    "    # Create a Sobol sequence generator\n",
    "    sobol = Sobol(d=1, scramble=True)  # 1-dimensional sequence\n",
    "\n",
    "    # Generate quasi-random numbers in the range [0, 1]\n",
    "    quasi_random_uniform = sobol.random_base2(m=int(np.log2(number_of_samples)))\n",
    "\n",
    "    # Transform the quasi-random numbers to a normal distribution\n",
    "    return norm.ppf(quasi_random_uniform)\n",
    "\n",
    "def gbm_paths_sobol(S0, mu, sigma, T, I, paths, quasi_random_numbers):\n",
    "    S0, paths, I, T = S0, paths, I, T\n",
    "    dt = T / I\n",
    "    matrix = np.zeros((paths, I))\n",
    "    quasi_random_index = 0  # Index to track the current quasi-random number\n",
    "    for k in range(paths):\n",
    "        S = np.zeros(I)\n",
    "        S[0] = S0\n",
    "        for i in range(1, I):\n",
    "            Z = quasi_random_numbers[quasi_random_index % len(quasi_random_numbers)]\n",
    "            quasi_random_index += 1\n",
    "            S[i] = S[i-1] * np.exp((mu - 0.5 * sigma ** 2) * dt + sigma * np.sqrt(dt) * Z)\n",
    "        matrix[k] = S\n",
    "    return matrix"
   ]
  },
  {
   "cell_type": "code",
   "execution_count": 25,
   "metadata": {},
   "outputs": [],
   "source": [
    "def gbm_paths(S0, mu, sigma, T, I, paths):\n",
    "    np.random.seed(42)\n",
    "    S0, paths, I, T = S0, paths, I, T\n",
    "    dt = T / I\n",
    "    matrix = np.zeros((paths, I))\n",
    "    for k in range(paths):\n",
    "        S = np.zeros(I)\n",
    "        S[0] = S0\n",
    "        for i in range(1, I):\n",
    "            Z = np.random.standard_normal()\n",
    "            S[i] = S[i-1] * np.exp((mu - 0.5 * sigma ** 2) * dt + sigma * np.sqrt(dt) * Z)\n",
    "        matrix[k] = S\n",
    "    return matrix"
   ]
  },
  {
   "cell_type": "code",
   "execution_count": 26,
   "metadata": {},
   "outputs": [],
   "source": [
    "# Total number of quasi-random samples needed\n",
    "number_of_samples = paths * I\n",
    "\n",
    "# Generate the quasi-random numbers\n",
    "quasi_random_numbers = generate_quasi_random_normal(number_of_samples)"
   ]
  },
  {
   "cell_type": "code",
   "execution_count": 27,
   "metadata": {},
   "outputs": [],
   "source": [
    "# Corrected function call\n",
    "#quasi_gbm_paths = gbm_paths_sobol(S0, GBM_mu, GBM_sigma, T, I, paths, quasi_random_numbers)"
   ]
  },
  {
   "cell_type": "code",
   "execution_count": 28,
   "metadata": {},
   "outputs": [],
   "source": [
    "#display_matrix(quasi_gbm_paths)"
   ]
  },
  {
   "cell_type": "code",
   "execution_count": 29,
   "metadata": {},
   "outputs": [],
   "source": [
    "#plt.figure(figsize=(10, 6))\n",
    "#plt.plot(quasi_gbm_paths.T, lw=1.5)\n",
    "#plt.xlabel('time')\n",
    "#plt.ylabel('index level')\n",
    "#plt.grid(True)\n",
    "#plt.show()"
   ]
  },
  {
   "cell_type": "code",
   "execution_count": 30,
   "metadata": {},
   "outputs": [],
   "source": [
    "def LSM(K, S, I, df, basis, deg):\n",
    "    paths = len(S)\n",
    "    np.random.seed(42)\n",
    "    H = np.maximum(K - S, 0)  # intrinsic values for put option\n",
    "    V = np.zeros_like(H)  # value matrix\n",
    "    V[:, -1] = H[:, -1]  # set value at maturity equal to intrinsic value\n",
    "\n",
    "    # Valuation by LS Method\n",
    "    for t in range(I - 2, 0, -1):\n",
    "        good_paths = H[:, t] > 0  # paths where the intrinsic value is positive\n",
    "\n",
    "        if np.sum(good_paths) > 0:\n",
    "            if basis == 'poly':\n",
    "                rg = np.polyfit(S[good_paths, t], V[good_paths, t + 1] * df, deg)\n",
    "                C = np.polyval(rg, S[good_paths, t])\n",
    "            elif basis == 'legendre':\n",
    "                rg = np.polynomial.legendre.legfit(S[good_paths, t], V[good_paths, t + 1] * df, deg)\n",
    "                C = np.polynomial.legendre.legval(S[good_paths, t], rg)\n",
    "            elif basis =='laguerre':\n",
    "                rg = np.polynomial.laguerre.lagfit(S[good_paths, t], V[good_paths, t + 1] * df, deg)\n",
    "                C = np.polynomial.laguerre.lagval(S[good_paths, t], rg)\n",
    "            else:  # 'hermite'\n",
    "                rg = np.polynomial.hermite.hermfit(S[good_paths, t], V[good_paths, t + 1] * df, deg)\n",
    "                C = np.polynomial.hermite.hermval(S[good_paths, t], rg)\n",
    "\n",
    "            exercise = np.zeros(len(good_paths), dtype=bool)\n",
    "            exercise[good_paths] = H[good_paths, t] > C\n",
    "        else:\n",
    "            # If all intrinsic values are zero, mark all as non-exercise\n",
    "            exercise = np.zeros(len(good_paths), dtype=bool)\n",
    "\n",
    "        V[exercise, t] = H[exercise, t]\n",
    "        V[exercise, t + 1 :] = 0\n",
    "        discount_path = ~exercise\n",
    "        V[discount_path, t] = V[discount_path, t + 1] * df\n",
    "\n",
    "    V0 = np.mean(V[:, 1]) * df  # discounted expectation of V[t=1]\n",
    "    V0_array = V[:, 1] * df\n",
    "    SE = np.std(V[:, 1] * df) / np.sqrt(paths)\n",
    "    variance = np.var(V[:, 1] * df)\n",
    "    return V0, V0_array, SE, variance"
   ]
  },
  {
   "cell_type": "code",
   "execution_count": 31,
   "metadata": {},
   "outputs": [],
   "source": [
    "quasi_gbm_paths = gbm_paths_sobol(S0, GBM_mu, GBM_sigma, T, I, paths, quasi_random_numbers)\n",
    "\n",
    "gbm_paths = gbm_paths(S0, GBM_mu, GBM_sigma, T, I, paths)"
   ]
  },
  {
   "cell_type": "code",
   "execution_count": 32,
   "metadata": {},
   "outputs": [
    {
     "name": "stderr",
     "output_type": "stream",
     "text": [
      "/Users/philipgadereumert/opt/anaconda3/lib/python3.9/site-packages/numpy/polynomial/hermite.py:1403: RankWarning: The fit may be poorly conditioned\n",
      "  return pu._fit(hermvander, x, y, deg, rcond, full, w)\n"
     ]
    },
    {
     "name": "stdout",
     "output_type": "stream",
     "text": [
      "Quasi-random numbers\n",
      "V0:  0.06256\n",
      "SE:  0.00071\n",
      "Variance:  0.00502\n",
      "Random numbers\n",
      "V0:  0.08093\n",
      "SE:  0.00087\n",
      "Variance:  0.00748\n"
     ]
    }
   ],
   "source": [
    "V0_quasi, V0_array_quasi, SE_quasi, variance_quasi = LSM(K, quasi_gbm_paths, I, np.exp(-r * T), basis, 2)\n",
    "V0, V0_array, SE, variance = LSM(K, gbm_paths, I, np.exp(-r * T), basis, 2)\n",
    "\n",
    "print('Quasi-random numbers')\n",
    "print('V0: ', V0_quasi.round(5))\n",
    "print('SE: ', SE_quasi.round(5))\n",
    "print('Variance: ', variance_quasi.round(5))\n",
    "print('Random numbers')\n",
    "print('V0: ', V0.round(5))\n",
    "print('SE: ', SE.round(5))\n",
    "print('Variance: ', variance.round(5))"
   ]
  },
  {
   "cell_type": "code",
   "execution_count": null,
   "metadata": {},
   "outputs": [],
   "source": []
  }
 ],
 "metadata": {
  "kernelspec": {
   "display_name": "base",
   "language": "python",
   "name": "python3"
  },
  "language_info": {
   "codemirror_mode": {
    "name": "ipython",
    "version": 3
   },
   "file_extension": ".py",
   "mimetype": "text/x-python",
   "name": "python",
   "nbconvert_exporter": "python",
   "pygments_lexer": "ipython3",
   "version": "3.9.13"
  }
 },
 "nbformat": 4,
 "nbformat_minor": 2
}
