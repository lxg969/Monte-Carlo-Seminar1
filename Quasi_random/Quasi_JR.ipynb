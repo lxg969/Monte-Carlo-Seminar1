{
 "cells": [
  {
   "cell_type": "code",
   "execution_count": 54,
   "metadata": {},
   "outputs": [],
   "source": [
    "import matplotlib.pyplot as plt\n",
    "plt.style.use('ggplot')\n",
    "import numpy as np\n",
    "from numpy import zeros_like\n",
    "from IPython.display import display\n",
    "def display_matrix(m):\n",
    "    display(sympy.Matrix(m))\n",
    "import sympy\n",
    "import pandas as pd\n",
    "import scipy.stats as ss\n",
    "from scipy.stats.qmc import Sobol\n",
    "from scipy.stats import norm\n",
    "\n",
    "sympy.init_printing()"
   ]
  },
  {
   "cell_type": "code",
   "execution_count": 55,
   "metadata": {},
   "outputs": [],
   "source": [
    "basis = 'leguerre'\n",
    "\n",
    "# parameters\n",
    "\n",
    "mu = 0.06\n",
    "r = 0.06\n",
    "T = 1\n",
    "I = 250\n",
    "paths = 30000\n",
    "S0 = 40\n",
    "S0_list = range(37, 43, 1)\n",
    "m = 0\n",
    "K = 40\n",
    "\n",
    "GBM_sigma = 0.04\n",
    "GBM_mu = r\n",
    "\n",
    "LN_lam = 1\n",
    "LN_sigma = 0.02\n",
    "LN_mu = r\n",
    "LN_v = 0.02\n",
    "\n",
    "JR_lam = 0.01\n",
    "JR_sigma = 0.03\n",
    "JR_mu = r + JR_lam\n",
    "\n",
    "LNparams = (LN_lam, LN_sigma, LN_mu, LN_v, m)\n",
    "JRparams = (JR_lam, JR_sigma, JR_mu)\n",
    "GBMparams = (GBM_mu, GBM_sigma)"
   ]
  },
  {
   "cell_type": "code",
   "execution_count": 56,
   "metadata": {},
   "outputs": [],
   "source": [
    "def generate_quasi_random_normal(number_of_samples):\n",
    "    # Create a Sobol sequence generator\n",
    "    sobol = Sobol(d=1, scramble=True)  # 1-dimensional sequence\n",
    "\n",
    "    # Generate quasi-random numbers in the range [0, 1]\n",
    "    quasi_random_uniform = sobol.random_base2(m=int(np.log2(number_of_samples)))\n",
    "\n",
    "    # Transform the quasi-random numbers to a normal distribution\n",
    "    return norm.ppf(quasi_random_uniform)"
   ]
  },
  {
   "cell_type": "code",
   "execution_count": 57,
   "metadata": {},
   "outputs": [],
   "source": [
    "def merton_jump_to_ruin_paths(S0, paths, I, T, lam, sigma, mu):\n",
    "    np.random.seed(44)\n",
    "    S0, paths, I, T = S0, paths, I, T\n",
    "    matrix = np.zeros((paths, I))\n",
    "    for k in range(paths):\n",
    "        X = np.zeros(I)\n",
    "        S = np.zeros(I)\n",
    "        X[0] = np.log(S0)\n",
    "        S[0] = S0\n",
    "        dt = T / I\n",
    "        for i in range(1,I):\n",
    "            Z = np.random.standard_normal()\n",
    "            N = np.random.poisson(lam * dt)\n",
    "            if N == 0 and X[i-1] > 0:\n",
    "                X[i] = X[i-1] + (mu - 0.5 * sigma ** 2) * dt + sigma * np.sqrt(dt) * Z\n",
    "                S[i] = np.exp(X[i])\n",
    "            else:\n",
    "                S[i] = 0\n",
    "        matrix[k] = S\n",
    "    return matrix"
   ]
  },
  {
   "cell_type": "code",
   "execution_count": 58,
   "metadata": {},
   "outputs": [],
   "source": [
    "def merton_jump_to_ruin_paths_sobol(S0, paths, I, T, lam, sigma, mu, quasi_random_numbers):\n",
    "    np.random.seed(44)\n",
    "    S0, paths, I, T = S0, paths, I, T\n",
    "    matrix = np.zeros((paths, I))\n",
    "    quasi_random_index = 0  # Index to track the current quasi-random number\n",
    "    for k in range(paths):\n",
    "        X = np.zeros(I)\n",
    "        S = np.zeros(I)\n",
    "        X[0] = np.log(S0)\n",
    "        S[0] = S0\n",
    "        dt = T / I\n",
    "        for i in range(1,I):\n",
    "            Z = quasi_random_numbers[quasi_random_index % len(quasi_random_numbers)]\n",
    "            N = np.random.poisson(lam * dt)\n",
    "            if N == 0 and X[i-1] > 0:\n",
    "                X[i] = X[i-1] + (mu - 0.5 * sigma ** 2) * dt + sigma * np.sqrt(dt) * Z\n",
    "                S[i] = np.exp(X[i])\n",
    "            else:\n",
    "                S[i] = 0\n",
    "        matrix[k] = S\n",
    "    return matrix"
   ]
  },
  {
   "cell_type": "code",
   "execution_count": 59,
   "metadata": {},
   "outputs": [],
   "source": [
    "# Total number of quasi-random samples needed\n",
    "number_of_samples = paths * I\n",
    "\n",
    "# Generate the quasi-random numbers\n",
    "quasi_random_numbers = generate_quasi_random_normal(number_of_samples)"
   ]
  },
  {
   "cell_type": "code",
   "execution_count": 60,
   "metadata": {},
   "outputs": [],
   "source": [
    "def LSM(K, S, I, df, basis, deg):\n",
    "    paths = len(S)\n",
    "    np.random.seed(42)\n",
    "    H = np.maximum(K - S, 0)  # intrinsic values for put option\n",
    "    V = np.zeros_like(H)  # value matrix\n",
    "    V[:, -1] = H[:, -1]  # set value at maturity equal to intrinsic value\n",
    "\n",
    "    # Valuation by LS Method\n",
    "    for t in range(I - 2, 0, -1):\n",
    "        good_paths = H[:, t] > 0  # paths where the intrinsic value is positive\n",
    "\n",
    "        if np.sum(good_paths) > 0:\n",
    "            if basis == 'poly':\n",
    "                rg = np.polyfit(S[good_paths, t], V[good_paths, t + 1] * df, deg)\n",
    "                C = np.polyval(rg, S[good_paths, t])\n",
    "            elif basis == 'legendre':\n",
    "                rg = np.polynomial.legendre.legfit(S[good_paths, t], V[good_paths, t + 1] * df, deg)\n",
    "                C = np.polynomial.legendre.legval(S[good_paths, t], rg)\n",
    "            elif basis =='laguerre':\n",
    "                rg = np.polynomial.laguerre.lagfit(S[good_paths, t], V[good_paths, t + 1] * df, deg)\n",
    "                C = np.polynomial.laguerre.lagval(S[good_paths, t], rg)\n",
    "            else:  # 'hermite'\n",
    "                rg = np.polynomial.hermite.hermfit(S[good_paths, t], V[good_paths, t + 1] * df, deg)\n",
    "                C = np.polynomial.hermite.hermval(S[good_paths, t], rg)\n",
    "\n",
    "            exercise = np.zeros(len(good_paths), dtype=bool)\n",
    "            exercise[good_paths] = H[good_paths, t] > C\n",
    "        else:\n",
    "            # If all intrinsic values are zero, mark all as non-exercise\n",
    "            exercise = np.zeros(len(good_paths), dtype=bool)\n",
    "\n",
    "        V[exercise, t] = H[exercise, t]\n",
    "        V[exercise, t + 1 :] = 0\n",
    "        discount_path = ~exercise\n",
    "        V[discount_path, t] = V[discount_path, t + 1] * df\n",
    "\n",
    "    V0 = np.mean(V[:, 1]) * df  # discounted expectation of V[t=1]\n",
    "    V0_array = V[:, 1] * df\n",
    "    SE = np.std(V[:, 1] * df) / np.sqrt(paths)\n",
    "    variance = np.var(V[:, 1] * df)\n",
    "    return V0, V0_array, SE, variance"
   ]
  },
  {
   "cell_type": "code",
   "execution_count": 61,
   "metadata": {},
   "outputs": [],
   "source": [
    "quasi_jr_paths = merton_jump_to_ruin_paths_sobol(S0, paths, I, T, JR_lam, JR_sigma, JR_mu, quasi_random_numbers)\n",
    "jr_paths = merton_jump_to_ruin_paths(S0, paths, I, T, JR_lam, JR_sigma, JR_mu)"
   ]
  },
  {
   "cell_type": "code",
   "execution_count": 62,
   "metadata": {},
   "outputs": [
    {
     "name": "stderr",
     "output_type": "stream",
     "text": [
      "/Users/philipgadereumert/opt/anaconda3/lib/python3.9/site-packages/numpy/polynomial/hermite.py:1403: RankWarning: The fit may be poorly conditioned\n",
      "  return pu._fit(hermvander, x, y, deg, rcond, full, w)\n"
     ]
    },
    {
     "name": "stdout",
     "output_type": "stream",
     "text": [
      "V0 sobol:  0.36974\n",
      "V0:  0.07048\n",
      "SE sobol:  0.00399\n",
      "SE:  0.00385\n",
      "variance sobol:  0.47864\n",
      "variance:  0.44358\n"
     ]
    }
   ],
   "source": [
    "V0_sobol, V0_array_sobol, SE_sobol, variance_sobol = LSM(K, quasi_jr_paths, I, np.exp(-r * T), basis, 3)\n",
    "V0, V0_array, SE, variance = LSM(K, jr_paths, I, np.exp(-r * T), basis, 3)\n",
    "\n",
    "print('V0 sobol: ', V0_sobol.round(5))\n",
    "print('V0: ', V0.round(5))\n",
    "print('SE sobol: ', SE_sobol.round(5))\n",
    "print('SE: ', SE.round(5))\n",
    "print('variance sobol: ', variance_sobol.round(5))\n",
    "print('variance: ', variance.round(5))\n"
   ]
  },
  {
   "cell_type": "code",
   "execution_count": null,
   "metadata": {},
   "outputs": [],
   "source": []
  }
 ],
 "metadata": {
  "kernelspec": {
   "display_name": "base",
   "language": "python",
   "name": "python3"
  },
  "language_info": {
   "codemirror_mode": {
    "name": "ipython",
    "version": 3
   },
   "file_extension": ".py",
   "mimetype": "text/x-python",
   "name": "python",
   "nbconvert_exporter": "python",
   "pygments_lexer": "ipython3",
   "version": "3.9.13"
  }
 },
 "nbformat": 4,
 "nbformat_minor": 2
}
