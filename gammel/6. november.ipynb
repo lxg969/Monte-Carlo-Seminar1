{
 "cells": [
  {
   "cell_type": "code",
   "execution_count": 10,
   "metadata": {},
   "outputs": [],
   "source": [
    "import matplotlib.pyplot as plt\n",
    "plt.style.use('ggplot')\n",
    "import numpy as np\n",
    "from IPython.display import display\n",
    "def display_matrix(m):\n",
    "    display(sympy.Matrix(m))\n",
    "import sympy\n",
    "\n",
    "sympy.init_printing()"
   ]
  },
  {
   "cell_type": "code",
   "execution_count": 11,
   "metadata": {},
   "outputs": [],
   "source": [
    "S0 = 100\n",
    "T = 1\n",
    "mu = 0.05\n",
    "sigma = 0.2\n",
    "lam = 1\n",
    "I = 100\n",
    "m = 0\n",
    "v = 0.3\n",
    "paths = 100\n",
    "K = 99\n",
    "df = np.exp(-mu*T)"
   ]
  },
  {
   "cell_type": "code",
   "execution_count": 12,
   "metadata": {},
   "outputs": [
    {
     "data": {
      "image/png": "[encoded data removed]",
      "text/latex": [
       "$\\displaystyle \\left( 100, \\  100\\right)$"
      ],
      "text/plain": [
       "(100, 100)"
      ]
     },
     "execution_count": 12,
     "metadata": {},
     "output_type": "execute_result"
    }
   ],
   "source": [
    "def matrix(paths):\n",
    "    np.random.seed(42)\n",
    "    matrix = np.zeros((paths, I))\n",
    "    for k in range(paths):\n",
    "        X = np.zeros(I)\n",
    "        S = np.zeros(I)\n",
    "\n",
    "        X[0] = np.log(S0)\n",
    "        S[0] = S0\n",
    "        dt = T / I\n",
    "    \n",
    "        for i in range(1,I):\n",
    "            Z = np.random.standard_normal()\n",
    "            N = np.random.poisson(lam * dt)\n",
    "            Y = np.exp(np.random.normal(m,v,N))\n",
    "    \n",
    "            if N == 0:\n",
    "                M = 0\n",
    "    \n",
    "            else:\n",
    "                for j in range(N):\n",
    "                    M = np.sum(np.log(Y))\n",
    "                    \n",
    "            X[i] = X[i-1] + (mu - 0.5 * sigma ** 2) * dt + sigma * np.sqrt(dt) * Z + M\n",
    "            S[i] = np.exp(X[i])\n",
    "        matrix[k] = S\n",
    "    return matrix\n",
    "\n",
    "S = matrix(paths)\n",
    "S.shape"
   ]
  },
  {
   "cell_type": "code",
   "execution_count": 14,
   "metadata": {},
   "outputs": [
    {
     "name": "stdout",
     "output_type": "stream",
     "text": [
      "The value of the American put option is:  3.676123705643855\n"
     ]
    },
    {
     "data": {
      "image/png": "[encoded data removed]",
      "text/latex": [
       "$\\displaystyle \\left( 100, \\  100\\right)$"
      ],
      "text/plain": [
       "(100, 100)"
      ]
     },
     "execution_count": 14,
     "metadata": {},
     "output_type": "execute_result"
    }
   ],
   "source": [
    "H = np.maximum(K - S, 0)  # intrinsic values for put option\n",
    "V = np.zeros_like(H)  # value matrix\n",
    "V[:, -1] = H[:, -1] # set value at maturity equal to intrinsic value\n",
    "\n",
    "# Valuation by LS Method\n",
    "for t in range(I - 2, 0, -1): #start at t = I-2 and go backwards (since we already set t = I-1 to intrinsic value)\n",
    "    good_paths = H[:, t] > 0  # paths where the intrinsic value is positive\n",
    "    # the regression is performed only on these paths\n",
    "\n",
    "    # Now we create the X matrix with the new basis functions\n",
    "    S_t = S[good_paths, t]  # stock prices at time t\n",
    "    S_t_1 = S[:, 1]  # S1 prices\n",
    "    S_t_2 = S[:, 2]  # S2 prices assuming S is a two-asset option model\n",
    "\n",
    "    X = np.column_stack((S_t, S_t**2, S_t**3))\n",
    "\n",
    "    # Regression: Predicting the continuation value\n",
    "    Y = V[good_paths, t + 1] * df  # discounted option values at t+1\n",
    "    reg = np.linalg.lstsq(X, Y, rcond=None)[0]  # perform least squares regression\n",
    "\n",
    "    # Using the regression coefficients to predict continuation values\n",
    "    C = X @ reg  # matrix multiplication to get continuation values\n",
    "\n",
    "    exercise = np.zeros(len(good_paths), dtype=bool)  # initialize\n",
    "    exercise[good_paths] = H[good_paths, t] > C  # paths where it is optimal to exercise\n",
    "\n",
    "    V[exercise, t] = H[exercise, t]  # set V equal to H where it is optimal to exercise\n",
    "    V[exercise, t + 1 :] = 0  # set future cash flows, for that path, equal to zero\n",
    "    discount_path = V[:, t] == 0  # paths where we didn't exercise\n",
    "    V[discount_path, t] = V[discount_path, t + 1] * df  # set V[t] in continuation region\n",
    "\n",
    "V0 = np.mean(V[:, 1]) * df  # discounted expectation of V[t=1]\n",
    "print('The value of the American put option is: ', V0)\n",
    "\n",
    "V.shape"
   ]
  },
  {
   "cell_type": "code",
   "execution_count": null,
   "metadata": {},
   "outputs": [],
   "source": [
    " "
   ]
  }
 ],
 "metadata": {
  "kernelspec": {
   "display_name": "base",
   "language": "python",
   "name": "python3"
  },
  "language_info": {
   "codemirror_mode": {
    "name": "ipython",
    "version": 3
   },
   "file_extension": ".py",
   "mimetype": "text/x-python",
   "name": "python",
   "nbconvert_exporter": "python",
   "pygments_lexer": "ipython3",
   "version": "3.9.13"
  }
 },
 "nbformat": 4,
 "nbformat_minor": 2
}
