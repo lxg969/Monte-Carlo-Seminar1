{
 "cells": [
  {
   "cell_type": "code",
   "execution_count": 2,
   "metadata": {},
   "outputs": [],
   "source": [
    "import matplotlib.pyplot as plt\n",
    "plt.style.use('ggplot')\n",
    "import numpy as np\n",
    "from numpy import zeros_like\n",
    "from IPython.display import display\n",
    "def display_matrix(m):\n",
    "    display(sympy.Matrix(m))\n",
    "import sympy\n",
    "import pandas as pd\n",
    "import scipy.stats as ss\n",
    "\n",
    "sympy.init_printing()\n",
    "\n",
    "from Pricer import Pricer\n",
    "from Processes import Processes\n",
    "\n",
    "from scipy.stats.qmc import Sobol\n",
    "from scipy.stats import norm"
   ]
  },
  {
   "cell_type": "code",
   "execution_count": 3,
   "metadata": {},
   "outputs": [
    {
     "name": "stdout",
     "output_type": "stream",
     "text": [
      "Processes class created with S0 = 37, paths = 1000, I = 250, T = 1\n"
     ]
    }
   ],
   "source": [
    "basis = 'leguerre'\n",
    "\n",
    "# parameters\n",
    "\n",
    "mu = 0.06\n",
    "r = 0.06\n",
    "sigma = 0.04\n",
    "T = 1\n",
    "I = 250\n",
    "paths = 1000\n",
    "S0 = 37\n",
    "S0_list = range(37, 43, 1)\n",
    "m = 0\n",
    "K = 40\n",
    "deg = 3\n",
    "df = np.exp(-r * T/I)\n",
    "\n",
    "GBM_sigma = sigma\n",
    "GBM_mu = r\n",
    "\n",
    "LN_lam = 1\n",
    "LN_sigma = 0.02\n",
    "LN_mu = r\n",
    "LN_v = 0.02\n",
    "\n",
    "JR_lam = 0.01\n",
    "JR_sigma = 0.03\n",
    "JR_mu = r + JR_lam\n",
    "\n",
    "LNparams = (LN_lam, LN_sigma, LN_mu, LN_v, m)\n",
    "JRparams = (JR_lam, JR_sigma, JR_mu)\n",
    "GBMparams = (GBM_mu, GBM_sigma)\n",
    "\n",
    "# instance\n",
    "processes = Processes(S0, r, T, K, paths, I, LNparams, JRparams, GBMparams)\n",
    "pricer = Pricer(S0, r, sigma, T, K, paths, I, LNparams, JRparams, GBMparams)"
   ]
  },
  {
   "cell_type": "code",
   "execution_count": 4,
   "metadata": {},
   "outputs": [],
   "source": [
    "GBM_paths = processes.gbm_paths()"
   ]
  },
  {
   "cell_type": "code",
   "execution_count": 5,
   "metadata": {},
   "outputs": [],
   "source": [
    "import numpy as np\n",
    "\n",
    "def update_exercise_matrix(exercise_matrix):\n",
    "    for path in range(exercise_matrix.shape[0]):\n",
    "        first_exercise = np.where(exercise_matrix[path])[0]\n",
    "        if first_exercise.size > 0:\n",
    "            # Set all values after the first exercise to False\n",
    "            exercise_matrix[path, first_exercise[0] + 1:] = False\n",
    "    return exercise_matrix\n",
    "\n",
    "def LSM(K, S, I, df, basis, deg):\n",
    "    paths = len(S)\n",
    "    H = np.maximum(K - S, 0)  # intrinsic values for put option\n",
    "    V = np.zeros_like(H)  # value matrix\n",
    "    V[:, -1] = H[:, -1]  # set value at maturity equal to intrinsic value\n",
    "    exercise_matrix = np.zeros_like(H, dtype=bool)  # matrix to track exercise decisions\n",
    "\n",
    "    # Valuation by LS Method\n",
    "    for t in range(I - 2, 0, -1):\n",
    "        good_paths = H[:, t] > 0  # paths where the intrinsic value is positive\n",
    "\n",
    "        if np.sum(good_paths) > 0:\n",
    "            # Fit the continuation value based on the chosen basis\n",
    "            if basis == 'poly':\n",
    "                rg = np.polyfit(S[good_paths, t], V[good_paths, t + 1] * df, deg)\n",
    "                C = np.polyval(rg, S[good_paths, t])\n",
    "            elif basis == 'legendre':\n",
    "                rg = np.polynomial.legendre.legfit(S[good_paths, t], V[good_paths, t + 1] * df, deg)\n",
    "                C = np.polynomial.legendre.legval(S[good_paths, t], rg)\n",
    "            elif basis == 'laguerre':\n",
    "                rg = np.polynomial.laguerre.lagfit(S[good_paths, t], V[good_paths, t + 1] * df, deg)\n",
    "                C = np.polynomial.laguerre.lagval(S[good_paths, t], rg)\n",
    "            else:  # 'hermite'\n",
    "                rg = np.polynomial.hermite.hermfit(S[good_paths, t], V[good_paths, t + 1] * df, deg)\n",
    "                C = np.polynomial.hermite.hermval(S[good_paths, t], rg)\n",
    "\n",
    "            exercise = H[good_paths, t] > C\n",
    "            exercise_full = np.zeros_like(H[:, t], dtype=bool)\n",
    "            exercise_full[good_paths] = exercise\n",
    "        else:\n",
    "            exercise_full = np.zeros_like(H[:, t], dtype=bool)\n",
    "\n",
    "        exercise_matrix[:, t] = exercise_full\n",
    "        V[exercise_full, t] = H[exercise_full, t]\n",
    "        V[exercise_full, t + 1:] = 0\n",
    "        discount_path = ~exercise_full\n",
    "        V[discount_path, t] = V[discount_path, t + 1] * df\n",
    "\n",
    "    exercise_matrix = update_exercise_matrix(exercise_matrix)\n",
    "\n",
    "    V0 = np.mean(V[:, 1]) * df  # discounted expectation of V[t=1]\n",
    "    V0_array = V[:, 1] * df\n",
    "    SE = np.std(V[:, 1] * df) / np.sqrt(paths)\n",
    "    return V0, V0_array, SE, exercise_matrix, V\n"
   ]
  },
  {
   "cell_type": "code",
   "execution_count": 28,
   "metadata": {},
   "outputs": [],
   "source": [
    "V0, V0_array, SE, exercise_matrix_G, V = LSM(K, GBM_paths, I, df, basis, deg)"
   ]
  },
  {
   "cell_type": "code",
   "execution_count": 7,
   "metadata": {},
   "outputs": [],
   "source": [
    "def black_scholes_put(S, K, T, t, r, sigma):\n",
    "    d1 = (np.log(S / K) + (r + 0.5 * sigma ** 2) * (T - t)) / (sigma * np.sqrt(T - t))\n",
    "    d2 = d1 - sigma * np.sqrt(T - t)\n",
    "    put_price = K * np.exp(-r * (T - t)) * norm.cdf(-d2) - S * norm.cdf(-d1)\n",
    "    return put_price"
   ]
  },
  {
   "cell_type": "code",
   "execution_count": 8,
   "metadata": {},
   "outputs": [],
   "source": [
    "# Initialize a matrix to store the discounted European put prices\n",
    "european_put_prices = np.zeros_like(exercise_matrix, dtype=float)\n",
    "\n",
    "for path in range(exercise_matrix.shape[0]):\n",
    "    for time in range(exercise_matrix.shape[1]):\n",
    "        if exercise_matrix[path, time]:\n",
    "            S_at_exercise = GBM_paths[path, time]\n",
    "            t = time * (T / I)  # Current time in years\n",
    "            undiscounted_price = pricer.closed_formula_GBM(S_at_exercise, K, T-t, r, sigma)\n",
    "            discount_factor = np.exp(-r * t)  # Discount factor back to time 0\n",
    "            european_put_prices[path, time] = undiscounted_price * discount_factor\n",
    "\n",
    "first_exercise_prices = np.zeros(european_put_prices.shape[0])\n",
    "\n",
    "for path in range(european_put_prices.shape[0]):\n",
    "    # Find the first non-zero price for this path\n",
    "    first_exercise_price = next((price for price in european_put_prices[path, :] if price > 0), 0)\n",
    "    first_exercise_prices[path] = first_exercise_price\n",
    "\n",
    "crude_monte_carlo_european_GBM = pricer.crude_monte_carlo_european(GBM_paths)\n",
    "\n",
    "cov = np.cov(crude_monte_carlo_european_GBM, V0_array)\n",
    "\n",
    "alpha = -cov[0, 1] / cov[0, 0]\n",
    "\n",
    "adjusted_payoff = V0 + alpha * (crude_monte_carlo_european_GBM - np.mean(first_exercise_prices))"
   ]
  },
  {
   "cell_type": "code",
   "execution_count": 9,
   "metadata": {},
   "outputs": [
    {
     "name": "stdout",
     "output_type": "stream",
     "text": [
      "The average price of the european is:  0.9908737195027993\n",
      "The average price of the american is:  2.9916662804532326\n",
      "The standard error of the european is:  0.001911489333601862\n",
      "The standard error of the american is:  0.0028657001450516795\n"
     ]
    }
   ],
   "source": [
    "print(\"The average price of the european is: \", np.mean(first_exercise_prices))\n",
    "print(\"The average price of the american is: \", V0)\n",
    "\n",
    "print(\"The standard error of the european is: \", np.std(first_exercise_prices) / np.sqrt(paths))\n",
    "print(\"The standard error of the american is: \", SE)\n"
   ]
  },
  {
   "cell_type": "code",
   "execution_count": 10,
   "metadata": {},
   "outputs": [
    {
     "data": {
      "image/png": "[encoded data removed]",
      "text/latex": [
       "$\\displaystyle \\left[\\begin{matrix}1.14877296936513 & 0.00056385032159296\\\\0.00056385032159296 & 0.00822045777912835\\end{matrix}\\right]$"
      ],
      "text/plain": [
       "⎡ 1.14877296936513    0.00056385032159296⎤\n",
       "⎢                                        ⎥\n",
       "⎣0.00056385032159296  0.00822045777912835⎦"
      ]
     },
     "metadata": {},
     "output_type": "display_data"
    }
   ],
   "source": [
    "display_matrix(cov)"
   ]
  },
  {
   "cell_type": "code",
   "execution_count": 11,
   "metadata": {},
   "outputs": [
    {
     "name": "stdout",
     "output_type": "stream",
     "text": [
      "The covariance between the european and the american is:  0.0005638503215929601\n"
     ]
    }
   ],
   "source": [
    "print(\"The covariance between the european and the american is: \", cov[0, 1])"
   ]
  },
  {
   "cell_type": "code",
   "execution_count": 12,
   "metadata": {},
   "outputs": [
    {
     "name": "stdout",
     "output_type": "stream",
     "text": [
      "The optimal hedge ratio is:  -0.0004908283330383133\n"
     ]
    }
   ],
   "source": [
    "print(\"The optimal hedge ratio is: \", alpha)"
   ]
  },
  {
   "cell_type": "code",
   "execution_count": 13,
   "metadata": {},
   "outputs": [
    {
     "name": "stdout",
     "output_type": "stream",
     "text": [
      "The adjusted payoff is:  2.991637117643991\n",
      "the payoff of the american is:  2.9916662804532326\n"
     ]
    }
   ],
   "source": [
    "print(\"The adjusted payoff is: \", np.mean(adjusted_payoff))\n",
    "print(\"the payoff of the american is: \", V0)"
   ]
  },
  {
   "cell_type": "code",
   "execution_count": 14,
   "metadata": {},
   "outputs": [
    {
     "name": "stdout",
     "output_type": "stream",
     "text": [
      "The standard error of the adjusted payoff is:  1.6627596330113346e-05\n",
      "The standard error of the american is:  0.0028657001450516795\n"
     ]
    }
   ],
   "source": [
    "print(\"The standard error of the adjusted payoff is: \", np.std(adjusted_payoff) / np.sqrt(paths))\n",
    "print(\"The standard error of the american is: \", SE)"
   ]
  }
 ],
 "metadata": {
  "kernelspec": {
   "display_name": "base",
   "language": "python",
   "name": "python3"
  },
  "language_info": {
   "codemirror_mode": {
    "name": "ipython",
    "version": 3
   },
   "file_extension": ".py",
   "mimetype": "text/x-python",
   "name": "python",
   "nbconvert_exporter": "python",
   "pygments_lexer": "ipython3",
   "version": "3.9.13"
  }
 },
 "nbformat": 4,
 "nbformat_minor": 2
}
