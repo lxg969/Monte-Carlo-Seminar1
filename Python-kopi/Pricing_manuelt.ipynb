{
 "cells": [
  {
   "cell_type": "code",
   "execution_count": 29,
   "metadata": {},
   "outputs": [],
   "source": [
    "import matplotlib.pyplot as plt\n",
    "plt.style.use('ggplot')\n",
    "import numpy as np\n",
    "from numpy import zeros_like\n",
    "from IPython.display import display\n",
    "def display_matrix(m):\n",
    "    display(sympy.Matrix(m))\n",
    "import sympy\n",
    "import pandas as pd\n",
    "import scipy.stats as ss\n",
    "\n",
    "sympy.init_printing()\n",
    "\n",
    "from Pricer import Pricer\n",
    "from Processes import Processes\n",
    "from Processes1 import Processes1\n",
    "from Processes2 import Processes2\n",
    "\n",
    "from scipy.stats.qmc import Sobol\n",
    "from scipy.stats import norm"
   ]
  },
  {
   "cell_type": "code",
   "execution_count": 30,
   "metadata": {},
   "outputs": [
    {
     "name": "stdout",
     "output_type": "stream",
     "text": [
      "Processes class created with S0 = 40, paths = 1000, I = 250, T = 1\n",
      "Processes1 class created with S0 = 40, paths = 1000, I = 250, T = 1\n",
      "Processes2 class created with S0 = 40, paths = 1000, I = 250, T = 1\n"
     ]
    }
   ],
   "source": [
    "basis = 'leguerre'\n",
    "\n",
    "# parameters\n",
    "\n",
    "mu = 0.06\n",
    "r = 0.06\n",
    "T = 1\n",
    "I = 250\n",
    "paths = 1000\n",
    "S0 = 40\n",
    "S0_list = range(37, 43, 1)\n",
    "m = 0\n",
    "K = 40\n",
    "sigma = 0.04\n",
    "\n",
    "deg = 3\n",
    "\n",
    "GBM_sigma = 0.04\n",
    "GBM_mu = r\n",
    "\n",
    "LN_lam = 1\n",
    "LN_sigma = 0.02\n",
    "LN_mu = r\n",
    "LN_v = 0.02\n",
    "\n",
    "JR_lam = 0.01\n",
    "JR_sigma = 0.03\n",
    "JR_mu = r + JR_lam\n",
    "\n",
    "LNparams = (LN_lam, LN_sigma, LN_mu, LN_v, m)\n",
    "JRparams = (JR_lam, JR_sigma, JR_mu)\n",
    "GBMparams = (GBM_mu, GBM_sigma)\n",
    "\n",
    "# instance\n",
    "processes = Processes(S0, r, T, K, paths, I, LNparams, JRparams, GBMparams)\n",
    "pricer = Pricer(S0, r, sigma, T, K, paths, I, LNparams, JRparams, GBMparams)\n",
    "processes1 = Processes1(S0, r, T, K, paths, I, LNparams, JRparams, GBMparams)\n",
    "processes2 = Processes2(S0, r, T, K, paths, I, LNparams, JRparams, GBMparams)"
   ]
  },
  {
   "cell_type": "markdown",
   "metadata": {},
   "source": [
    "# Processes"
   ]
  },
  {
   "cell_type": "code",
   "execution_count": 31,
   "metadata": {},
   "outputs": [],
   "source": [
    "GBM_paths = processes.gbm_paths_antithetic()\n",
    "LN_paths = processes.merton_jump_paths_antithetic()\n",
    "JR_paths = processes.merton_jump_to_ruin_paths_antithetic()\n",
    "\n",
    "GBM_mean, GBM_std = processes2.gbm_paths_sobol_antithetic_moment_matching_sample()\n",
    "LN_mean, LN_std, LN_mean_LN, LN_std_LN = processes2.merton_jump_paths_sobol_antithetic_moment_matching_sample()\n",
    "JR_mean, JR_std= processes2.merton_jump_to_ruin_paths_sobol_antithetic_moment_matching_sample()\n",
    "\n",
    "gbm_paths_sobol_antithetic_moment_matching = processes2.gbm_paths_sobol_antithetic_moment_matching(GBM_mean, GBM_std)\n",
    "LN_paths_sobol_antithetic_moment_matching = processes2.merton_jump_paths_sobol_antithetic_moment_matching(LN_mean, LN_std, LN_mean_LN, LN_std_LN)\n",
    "JR_paths_sobol_antithetic_moment_matching = processes2.merton_jump_to_ruin_paths_sobol_antithetic_moment_matching(JR_mean, JR_std)"
   ]
  },
  {
   "cell_type": "markdown",
   "metadata": {},
   "source": [
    "# Pricing Functions"
   ]
  },
  {
   "cell_type": "code",
   "execution_count": 32,
   "metadata": {},
   "outputs": [],
   "source": [
    "def sampling_at_expiry(type, paths, V0_array, V0):\n",
    "    if type=='GBM':\n",
    "        paths = paths\n",
    "        euro_payoff = pricer.closed_formula_GBM(S0, K, T, r, sigma)\n",
    "        crude_monte_carlo_european = pricer.crude_monte_carlo_european(paths)\n",
    "        cov = np.cov(crude_monte_carlo_european, V0_array)\n",
    "        alpha = -cov[0,1]/cov[0,0]\n",
    "        adjusted_payoff = V0 + alpha * (crude_monte_carlo_european - np.mean(euro_payoff))\n",
    "        SE = np.std(adjusted_payoff)/np.sqrt(len(paths))\n",
    "        corr = cov[0, 1] / (np.std(crude_monte_carlo_european) * np.std(V0_array))\n",
    "        return adjusted_payoff, SE, cov[0,1], corr\n",
    "    \n",
    "    elif type=='LN':\n",
    "        paths = paths\n",
    "        euro_payoff = pricer.closed_formula_LN(S0, K, T, r, 10000)\n",
    "        crude_monte_carlo_european = pricer.crude_monte_carlo_european(paths)\n",
    "        cov = np.cov(crude_monte_carlo_european, V0_array)\n",
    "        alpha = -cov[0,1]/cov[0,0]\n",
    "        adjusted_payoff = V0 + alpha * (crude_monte_carlo_european - np.mean(euro_payoff))\n",
    "        SE = np.std(adjusted_payoff)/np.sqrt(len(paths))\n",
    "        corr = cov[0, 1] / (np.std(crude_monte_carlo_european) * np.std(V0_array))\n",
    "        return adjusted_payoff, SE, cov[0,1], corr\n",
    "    \n",
    "    else:\n",
    "        paths = paths\n",
    "        euro_payoff = pricer.closed_formula_JR(S0, K, T, r, sigma)\n",
    "        crude_monte_carlo_european = pricer.crude_monte_carlo_european(paths)\n",
    "        cov = np.cov(crude_monte_carlo_european, V0_array)\n",
    "        alpha = -cov[0,1]/cov[0,0]\n",
    "        adjusted_payoff = V0 + alpha * (crude_monte_carlo_european - np.mean(euro_payoff))\n",
    "        SE = np.std(adjusted_payoff)/np.sqrt(len(paths))\n",
    "        corr = cov[0, 1] / (np.std(crude_monte_carlo_european) * np.std(V0_array))\n",
    "        return adjusted_payoff, SE, cov[0,1], corr"
   ]
  },
  {
   "cell_type": "code",
   "execution_count": 33,
   "metadata": {},
   "outputs": [],
   "source": [
    "def sampling_at_exercise(type, paths, exercise_matrix, V0_array, V0):\n",
    "    if type == 'GBM':\n",
    "        european_put_prices = np.zeros_like(exercise_matrix, dtype=float)\n",
    "\n",
    "        for path in range(exercise_matrix.shape[0]):\n",
    "            for time in range(exercise_matrix.shape[1]):\n",
    "                if exercise_matrix[path, time]:\n",
    "                    S_at_exercise = paths[path, time]\n",
    "                    t = time * (T / I)  # Current time in years\n",
    "                    undiscounted_price = pricer.closed_formula_GBM(S_at_exercise, K, T-t, r, sigma)\n",
    "                    discount_factor = np.exp(-r * t)  # Discount factor back to time 0\n",
    "                    european_put_prices[path, time] = undiscounted_price * discount_factor\n",
    "\n",
    "        first_exercise_prices = np.zeros(european_put_prices.shape[0])\n",
    "\n",
    "        for path in range(european_put_prices.shape[0]):\n",
    "            # Find the first non-zero price for this path\n",
    "            first_exercise_price = next((price for price in european_put_prices[path, :] if price > 0), 0)\n",
    "            first_exercise_prices[path] = first_exercise_price\n",
    "\n",
    "        crude_monte_carlo_european_GBM = pricer.crude_monte_carlo_european(GBM_paths)\n",
    "\n",
    "        cov = np.cov(crude_monte_carlo_european_GBM, V0_array)\n",
    "        corr = cov[0, 1] / (np.std(crude_monte_carlo_european) * np.std(V0_array))\n",
    "\n",
    "        alpha = -cov[0, 1] / cov[0, 0]\n",
    "\n",
    "        adjusted_payoff = V0 + alpha * (crude_monte_carlo_european_GBM - np.mean(first_exercise_prices))\n",
    "        return adjusted_payoff, cov[0,1], corr\n",
    "\n",
    "    elif type == 'LN':\n",
    "        european_put_prices = np.zeros_like(exercise_matrix, dtype=float)\n",
    "\n",
    "        for path in range(exercise_matrix.shape[0]):\n",
    "            for time in range(exercise_matrix.shape[1]):\n",
    "                if exercise_matrix[path, time]:\n",
    "                    S_at_exercise = paths[path, time]\n",
    "                    t = time * (T / I)\n",
    "                    undiscounted_price = pricer.closed_formula_LN(S_at_exercise, K, T-t, r, 1000000)\n",
    "                    discount_factor = np.exp(-r * t)  # Discount factor back to time 0\n",
    "                    european_put_prices[path, time] = undiscounted_price * discount_factor\n",
    "\n",
    "        first_exercise_prices = np.zeros(european_put_prices.shape[0])\n",
    "\n",
    "        for path in range(european_put_prices.shape[0]):\n",
    "            # Find the first non-zero price for this path\n",
    "            first_exercise_price = next((price for price in european_put_prices[path, :] if price > 0), 0)\n",
    "            first_exercise_prices[path] = first_exercise_price\n",
    "\n",
    "        crude_monte_carlo_european = pricer.crude_monte_carlo_european(LN_paths)\n",
    "\n",
    "        cov = np.cov(crude_monte_carlo_european, V0_array)\n",
    "\n",
    "        alpha = -cov[0, 1] / cov[0, 0]\n",
    "        corr = cov[0, 1] / (np.std(crude_monte_carlo_european) * np.std(V0_array))\n",
    "\n",
    "        adjusted_payoff = V0 + alpha * (crude_monte_carlo_european - np.mean(first_exercise_prices))\n",
    "        return adjusted_payoff, cov[0,1], corr\n",
    "\n",
    "    else:\n",
    "        european_put_prices = np.zeros_like(exercise_matrix, dtype=float)\n",
    "\n",
    "        for path in range(exercise_matrix.shape[0]):\n",
    "            for time in range(exercise_matrix.shape[1]):\n",
    "                if exercise_matrix[path, time]:\n",
    "                    S_at_exercise = paths[path, time]\n",
    "                    t = time * (T / I)  # Current time in years\n",
    "                    undiscounted_price = pricer.closed_formula_JR(S_at_exercise, K, T-t, r, sigma)\n",
    "                    discount_factor = np.exp(-r * t)  # Discount factor back to time 0\n",
    "                    european_put_prices[path, time] = undiscounted_price * discount_factor\n",
    "\n",
    "        first_exercise_prices = np.zeros(european_put_prices.shape[0])\n",
    "\n",
    "        for path in range(european_put_prices.shape[0]):\n",
    "            # Find the first non-zero price for this path\n",
    "            first_exercise_price = next((price for price in european_put_prices[path, :] if price > 0), 0)\n",
    "            first_exercise_prices[path] = first_exercise_price\n",
    "\n",
    "        crude_monte_carlo_european = pricer.crude_monte_carlo_european(JR_paths)\n",
    "\n",
    "        cov = np.cov(crude_monte_carlo_european, V0_array)\n",
    "\n",
    "        alpha = -cov[0, 1] / cov[0, 0]\n",
    "        corr = cov[0, 1] / (np.std(crude_monte_carlo_european) * np.std(V0_array))\n",
    "\n",
    "        adjusted_payoff = V0 + alpha * (crude_monte_carlo_european - np.mean(first_exercise_prices))\n",
    "        return adjusted_payoff, cov[0,1], corr"
   ]
  },
  {
   "cell_type": "markdown",
   "metadata": {},
   "source": [
    "# Pricing"
   ]
  },
  {
   "cell_type": "markdown",
   "metadata": {},
   "source": [
    "Standard"
   ]
  },
  {
   "cell_type": "code",
   "execution_count": 34,
   "metadata": {},
   "outputs": [],
   "source": [
    "V0_GBM, V0_array_GBM, SE_GBM, exercise_matrix_GBM, V_GBM = pricer.LSM(GBM_paths, basis, deg)\n",
    "V0_LN, V0_array_LN, SE_LN, exercise_matrix_LN, V_LN = pricer.LSM(LN_paths, basis, deg)\n",
    "V0_JR, V0_array_JR, SE_JR, exercise_matrix_JR, V_JR = pricer.LSM(JR_paths, basis, deg)\n",
    "\n",
    "V0_GBM_VR, V0_array_GBM_VR, SE_GBM_VR, exercise_matrix_GBM_VR, V_GBM_VR = pricer.LSM(gbm_paths_sobol_antithetic_moment_matching, basis, deg)\n",
    "V0_LN_VR, V0_array_LN_VR, SE_LN_VR, exercise_matrix_LN_VR, V_LN_VR = pricer.LSM(LN_paths_sobol_antithetic_moment_matching, basis, deg)\n",
    "V0_JR_VR, V0_array_JR_VR, SE_JR_VR, exercise_matrix_JR_VR, V_JR_VR = pricer.LSM(JR_paths_sobol_antithetic_moment_matching, basis, deg)"
   ]
  },
  {
   "cell_type": "markdown",
   "metadata": {},
   "source": [
    "Expiry"
   ]
  },
  {
   "cell_type": "code",
   "execution_count": 35,
   "metadata": {},
   "outputs": [],
   "source": [
    "adjusted_payoff_expiry_GBM, SE_expiry_GBM, cov_expiry_GBM, corr_expiry_GBM = sampling_at_expiry('GBM', GBM_paths, V0_array_GBM, V0_GBM)\n",
    "adjusted_payoff_expiry_LN, SE_expiry_LN, cov_expiry_LN, corr_expiry_LN = sampling_at_expiry('LN', LN_paths, V0_array_LN, V0_LN)\n",
    "adjusted_payoff_expiry_JR, SE_expiry_JR, cov_expiry_JR, corr_expiry_JR = sampling_at_expiry('JR', JR_paths, V0_array_JR, V0_JR)\n",
    "\n",
    "adjusted_payoff_expiry_GBM_VR, SE_expiry_GBM_VR, cov_expiry_GBM_VR, corr_expiry_GBM_VR = sampling_at_expiry('GBM', gbm_paths_sobol_antithetic_moment_matching, V0_array_GBM_VR, V0_GBM_VR)\n",
    "adjusted_payoff_expiry_LN_VR, SE_expiry_LN_VR, cov_expiry_LN_VR, corr_expiry_LN_VR = sampling_at_expiry('LN', LN_paths_sobol_antithetic_moment_matching, V0_array_LN_VR, V0_LN_VR)\n",
    "adjusted_payoff_expiry_JR_VR, SE_expiry_JR_VR, cov_expiry_JR_VR, corr_expiry_JR_VR = sampling_at_expiry('JR', JR_paths_sobol_antithetic_moment_matching, V0_array_JR_VR, V0_JR_VR)"
   ]
  },
  {
   "cell_type": "markdown",
   "metadata": {},
   "source": [
    "Exercise"
   ]
  },
  {
   "cell_type": "code",
   "execution_count": 36,
   "metadata": {},
   "outputs": [
    {
     "ename": "UnboundLocalError",
     "evalue": "local variable 'crude_monte_carlo_european' referenced before assignment",
     "output_type": "error",
     "traceback": [
      "\u001b[0;31m---------------------------------------------------------------------------\u001b[0m",
      "\u001b[0;31mUnboundLocalError\u001b[0m                         Traceback (most recent call last)",
      "\u001b[0;32m/var/folders/3l/9tdvgjyd6v12z560tdqxmwlm0000gn/T/ipykernel_50405/3067983874.py\u001b[0m in \u001b[0;36m<module>\u001b[0;34m\u001b[0m\n\u001b[0;32m----> 1\u001b[0;31m \u001b[0madjusted_payoff_exercise_GBM\u001b[0m\u001b[0;34m,\u001b[0m \u001b[0mcov_exercise_GBM\u001b[0m\u001b[0;34m,\u001b[0m \u001b[0mcorr_exercise_GBM\u001b[0m \u001b[0;34m=\u001b[0m \u001b[0msampling_at_exercise\u001b[0m\u001b[0;34m(\u001b[0m\u001b[0;34m'GBM'\u001b[0m\u001b[0;34m,\u001b[0m \u001b[0mGBM_paths\u001b[0m\u001b[0;34m,\u001b[0m \u001b[0mexercise_matrix_GBM\u001b[0m\u001b[0;34m,\u001b[0m \u001b[0mV0_array_GBM\u001b[0m\u001b[0;34m,\u001b[0m \u001b[0mV0_GBM\u001b[0m\u001b[0;34m)\u001b[0m\u001b[0;34m\u001b[0m\u001b[0;34m\u001b[0m\u001b[0m\n\u001b[0m\u001b[1;32m      2\u001b[0m \u001b[0madjusted_payoff_exercise_LN\u001b[0m\u001b[0;34m,\u001b[0m \u001b[0mcov_exercise_LN\u001b[0m\u001b[0;34m,\u001b[0m \u001b[0mcorr_exercise_LN\u001b[0m \u001b[0;34m=\u001b[0m \u001b[0msampling_at_exercise\u001b[0m\u001b[0;34m(\u001b[0m\u001b[0;34m'LN'\u001b[0m\u001b[0;34m,\u001b[0m \u001b[0mLN_paths\u001b[0m\u001b[0;34m,\u001b[0m \u001b[0mexercise_matrix_LN\u001b[0m\u001b[0;34m,\u001b[0m \u001b[0mV0_array_LN\u001b[0m\u001b[0;34m,\u001b[0m \u001b[0mV0_LN\u001b[0m\u001b[0;34m)\u001b[0m\u001b[0;34m\u001b[0m\u001b[0;34m\u001b[0m\u001b[0m\n\u001b[1;32m      3\u001b[0m \u001b[0madjusted_payoff_exercise_JR\u001b[0m\u001b[0;34m,\u001b[0m \u001b[0mcov_exercise_JR\u001b[0m\u001b[0;34m,\u001b[0m \u001b[0mcorr_exercise_JR\u001b[0m \u001b[0;34m=\u001b[0m \u001b[0msampling_at_exercise\u001b[0m\u001b[0;34m(\u001b[0m\u001b[0;34m'JR'\u001b[0m\u001b[0;34m,\u001b[0m \u001b[0mJR_paths\u001b[0m\u001b[0;34m,\u001b[0m \u001b[0mexercise_matrix_JR\u001b[0m\u001b[0;34m,\u001b[0m \u001b[0mV0_array_JR\u001b[0m\u001b[0;34m,\u001b[0m \u001b[0mV0_JR\u001b[0m\u001b[0;34m)\u001b[0m\u001b[0;34m\u001b[0m\u001b[0;34m\u001b[0m\u001b[0m\n\u001b[1;32m      4\u001b[0m \u001b[0;34m\u001b[0m\u001b[0m\n\u001b[1;32m      5\u001b[0m \u001b[0madjusted_payoff_exercise_GBM_VR\u001b[0m\u001b[0;34m,\u001b[0m \u001b[0mcov_exercise_GBM_VR\u001b[0m\u001b[0;34m,\u001b[0m \u001b[0mcorr_exercise_GBM_VR\u001b[0m \u001b[0;34m=\u001b[0m \u001b[0msampling_at_exercise\u001b[0m\u001b[0;34m(\u001b[0m\u001b[0;34m'GBM'\u001b[0m\u001b[0;34m,\u001b[0m \u001b[0mgbm_paths_sobol_antithetic_moment_matching\u001b[0m\u001b[0;34m,\u001b[0m \u001b[0mexercise_matrix_GBM_VR\u001b[0m\u001b[0;34m,\u001b[0m \u001b[0mV0_array_GBM_VR\u001b[0m\u001b[0;34m,\u001b[0m \u001b[0mV0_GBM_VR\u001b[0m\u001b[0;34m)\u001b[0m\u001b[0;34m\u001b[0m\u001b[0;34m\u001b[0m\u001b[0m\n",
      "\u001b[0;32m/var/folders/3l/9tdvgjyd6v12z560tdqxmwlm0000gn/T/ipykernel_50405/373217858.py\u001b[0m in \u001b[0;36msampling_at_exercise\u001b[0;34m(type, paths, exercise_matrix, V0_array, V0)\u001b[0m\n\u001b[1;32m     22\u001b[0m \u001b[0;34m\u001b[0m\u001b[0m\n\u001b[1;32m     23\u001b[0m         \u001b[0mcov\u001b[0m \u001b[0;34m=\u001b[0m \u001b[0mnp\u001b[0m\u001b[0;34m.\u001b[0m\u001b[0mcov\u001b[0m\u001b[0;34m(\u001b[0m\u001b[0mcrude_monte_carlo_european_GBM\u001b[0m\u001b[0;34m,\u001b[0m \u001b[0mV0_array\u001b[0m\u001b[0;34m)\u001b[0m\u001b[0;34m\u001b[0m\u001b[0;34m\u001b[0m\u001b[0m\n\u001b[0;32m---> 24\u001b[0;31m         \u001b[0mcorr\u001b[0m \u001b[0;34m=\u001b[0m \u001b[0mcov\u001b[0m\u001b[0;34m[\u001b[0m\u001b[0;36m0\u001b[0m\u001b[0;34m,\u001b[0m \u001b[0;36m1\u001b[0m\u001b[0;34m]\u001b[0m \u001b[0;34m/\u001b[0m \u001b[0;34m(\u001b[0m\u001b[0mnp\u001b[0m\u001b[0;34m.\u001b[0m\u001b[0mstd\u001b[0m\u001b[0;34m(\u001b[0m\u001b[0mcrude_monte_carlo_european\u001b[0m\u001b[0;34m)\u001b[0m \u001b[0;34m*\u001b[0m \u001b[0mnp\u001b[0m\u001b[0;34m.\u001b[0m\u001b[0mstd\u001b[0m\u001b[0;34m(\u001b[0m\u001b[0mV0_array\u001b[0m\u001b[0;34m)\u001b[0m\u001b[0;34m)\u001b[0m\u001b[0;34m\u001b[0m\u001b[0;34m\u001b[0m\u001b[0m\n\u001b[0m\u001b[1;32m     25\u001b[0m \u001b[0;34m\u001b[0m\u001b[0m\n\u001b[1;32m     26\u001b[0m         \u001b[0malpha\u001b[0m \u001b[0;34m=\u001b[0m \u001b[0;34m-\u001b[0m\u001b[0mcov\u001b[0m\u001b[0;34m[\u001b[0m\u001b[0;36m0\u001b[0m\u001b[0;34m,\u001b[0m \u001b[0;36m1\u001b[0m\u001b[0;34m]\u001b[0m \u001b[0;34m/\u001b[0m \u001b[0mcov\u001b[0m\u001b[0;34m[\u001b[0m\u001b[0;36m0\u001b[0m\u001b[0;34m,\u001b[0m \u001b[0;36m0\u001b[0m\u001b[0;34m]\u001b[0m\u001b[0;34m\u001b[0m\u001b[0;34m\u001b[0m\u001b[0m\n",
      "\u001b[0;31mUnboundLocalError\u001b[0m: local variable 'crude_monte_carlo_european' referenced before assignment"
     ]
    }
   ],
   "source": [
    "adjusted_payoff_exercise_GBM, cov_exercise_GBM, corr_exercise_GBM = sampling_at_exercise('GBM', GBM_paths, exercise_matrix_GBM, V0_array_GBM, V0_GBM)\n",
    "adjusted_payoff_exercise_LN, cov_exercise_LN, corr_exercise_LN = sampling_at_exercise('LN', LN_paths, exercise_matrix_LN, V0_array_LN, V0_LN)\n",
    "adjusted_payoff_exercise_JR, cov_exercise_JR, corr_exercise_JR = sampling_at_exercise('JR', JR_paths, exercise_matrix_JR, V0_array_JR, V0_JR)\n",
    "\n",
    "adjusted_payoff_exercise_GBM_VR, cov_exercise_GBM_VR, corr_exercise_GBM_VR = sampling_at_exercise('GBM', gbm_paths_sobol_antithetic_moment_matching, exercise_matrix_GBM_VR, V0_array_GBM_VR, V0_GBM_VR)\n",
    "adjusted_payoff_exercise_LN_VR, cov_exercise_LN_VR, corr_exercise_LN_VR = sampling_at_exercise('LN', LN_paths_sobol_antithetic_moment_matching, exercise_matrix_LN_VR, V0_array_LN_VR, V0_LN_VR)\n",
    "adjusted_payoff_exercise_JR_VR, cov_exercise_JR_VR, corr_exercise_JR_VR = sampling_at_exercise('JR', JR_paths_sobol_antithetic_moment_matching, exercise_matrix_JR_VR, V0_array_JR_VR, V0_JR_VR)"
   ]
  },
  {
   "cell_type": "markdown",
   "metadata": {},
   "source": [
    "SE"
   ]
  },
  {
   "cell_type": "code",
   "execution_count": null,
   "metadata": {},
   "outputs": [],
   "source": [
    "SE_exercise_GBM = np.std(adjusted_payoff_exercise_GBM)/np.sqrt(len(GBM_paths))\n",
    "SE_exercise_LN = np.std(adjusted_payoff_exercise_LN)/np.sqrt(len(LN_paths))\n",
    "SE_exercise_JR = np.std(adjusted_payoff_exercise_JR)/np.sqrt(len(JR_paths))\n",
    "\n",
    "SE_exercise_GBM_VR = np.std(adjusted_payoff_exercise_GBM_VR)/np.sqrt(len(gbm_paths_sobol_antithetic_moment_matching))\n",
    "SE_exercise_LN_VR = np.std(adjusted_payoff_exercise_LN_VR)/np.sqrt(len(LN_paths_sobol_antithetic_moment_matching))\n",
    "SE_exercise_JR_VR = np.std(adjusted_payoff_exercise_JR_VR)/np.sqrt(len(JR_paths_sobol_antithetic_moment_matching))"
   ]
  },
  {
   "cell_type": "code",
   "execution_count": null,
   "metadata": {},
   "outputs": [
    {
     "name": "stdout",
     "output_type": "stream",
     "text": [
      "GBM\n",
      "V0 = 0.18656908671679154\n",
      "SE = 0.005438924899753761\n",
      "SE expiry = 0.0013435348359862357\n",
      "SE exercise = 0.001343534835986236\n",
      "cov expiry = 0.012916794738844233\n",
      "cov exercise = 0.012916794738844233\n",
      "GBM VR\n",
      "V0 = 0.3729271080368836\n",
      "SE = 0.010573229772909847\n",
      "SE expiry = 0.004143890682367803\n",
      "SE exercise = 8.846266154466994e-05\n",
      "cov expiry = 0.09292131461633121\n",
      "cov exercise = 0.0008504833746164649\n",
      "LN\n",
      "V0 = 0.09630011653085044\n",
      "SE = 0.0049839008481007635\n",
      "SE expiry = 0.0015578945817453843\n",
      "SE exercise = 0.0015578945817453843\n",
      "cov expiry = 0.00811282949662871\n",
      "cov exercise = 0.00811282949662871\n",
      "LN VR\n",
      "V0 = 0.09546134327904983\n",
      "SE = 0.005444698062932883\n",
      "SE expiry = 0.0021830328460394456\n",
      "SE exercise = 8.539411194570108e-05\n",
      "cov expiry = 0.010434173041976575\n",
      "cov exercise = -0.0004446949609744033\n",
      "JR\n",
      "V0 = 0.5815856342972239\n",
      "SE = 0.0986939815826203\n",
      "SE expiry = 0.09861742586935004\n",
      "SE exercise = 0.09861742586935006\n",
      "cov expiry = 18.82775554404679\n",
      "cov exercise = 18.82775554404679\n",
      "JR VR\n",
      "V0 = 0.5700754527935902\n",
      "SE = 0.09833992703527825\n",
      "SE expiry = 0.09826456580454127\n",
      "SE exercise = 0.001431547127926147\n",
      "cov expiry = 18.76077155995614\n",
      "cov exercise = -0.2733068637391053\n"
     ]
    }
   ],
   "source": [
    "print('GBM')\n",
    "print('V0 = {}'.format(V0_GBM))\n",
    "print('SE = {}'.format(SE_GBM))\n",
    "print('SE expiry = {}'.format(SE_expiry_GBM))\n",
    "print('SE exercise = {}'.format(SE_exercise_GBM))\n",
    "print('cov expiry = {}'.format(cov_expiry_GBM))\n",
    "print('cov exercise = {}'.format(cov_exercise_GBM))\n",
    "print('corr expiry = {}'.format(corr_expiry_GBM))\n",
    "print('corr exercise = {}'.format(corr_exercise_GBM))\n",
    "print('GBM VR')\n",
    "print('V0 = {}'.format(V0_GBM_VR))\n",
    "print('SE = {}'.format(SE_GBM_VR))\n",
    "print('SE expiry = {}'.format(SE_expiry_GBM_VR))\n",
    "print('SE exercise = {}'.format(SE_exercise_GBM_VR))\n",
    "print('cov expiry = {}'.format(cov_expiry_GBM_VR))\n",
    "print('cov exercise = {}'.format(cov_exercise_GBM_VR))\n",
    "print('corr expiry = {}'.format(corr_expiry_GBM_VR))\n",
    "print('corr exercise = {}'.format(corr_exercise_GBM_VR))\n",
    "print('LN')\n",
    "print('V0 = {}'.format(V0_LN))\n",
    "print('SE = {}'.format(SE_LN))\n",
    "print('SE expiry = {}'.format(SE_expiry_LN))\n",
    "print('SE exercise = {}'.format(SE_exercise_LN))\n",
    "print('cov expiry = {}'.format(cov_expiry_LN))\n",
    "print('cov exercise = {}'.format(cov_exercise_LN))\n",
    "print('corr expiry = {}'.format(corr_expiry_LN))\n",
    "print('corr exercise = {}'.format(corr_exercise_LN))\n",
    "print('LN VR')\n",
    "print('V0 = {}'.format(V0_LN_VR))\n",
    "print('SE = {}'.format(SE_LN_VR))\n",
    "print('SE expiry = {}'.format(SE_expiry_LN_VR))\n",
    "print('SE exercise = {}'.format(SE_exercise_LN_VR))\n",
    "print('cov expiry = {}'.format(cov_expiry_LN_VR))\n",
    "print('cov exercise = {}'.format(cov_exercise_LN_VR))\n",
    "print('corr expiry = {}'.format(corr_expiry_LN_VR))\n",
    "print('corr exercise = {}'.format(corr_exercise_LN_VR))\n",
    "print('JR')\n",
    "print('V0 = {}'.format(V0_JR))\n",
    "print('SE = {}'.format(SE_JR))\n",
    "print('SE expiry = {}'.format(SE_expiry_JR))\n",
    "print('SE exercise = {}'.format(SE_exercise_JR))\n",
    "print('cov expiry = {}'.format(cov_expiry_JR))\n",
    "print('cov exercise = {}'.format(cov_exercise_JR))\n",
    "print('corr expiry = {}'.format(corr_expiry_JR))\n",
    "print('corr exercise = {}'.format(corr_exercise_JR))\n",
    "print('JR VR')\n",
    "print('V0 = {}'.format(V0_JR_VR))\n",
    "print('SE = {}'.format(SE_JR_VR))\n",
    "print('SE expiry = {}'.format(SE_expiry_JR_VR))\n",
    "print('SE exercise = {}'.format(SE_exercise_JR_VR))\n",
    "print('cov expiry = {}'.format(cov_expiry_JR_VR))\n",
    "print('cov exercise = {}'.format(cov_exercise_JR_VR))\n",
    "print('corr expiry = {}'.format(corr_expiry_JR_VR))\n",
    "print('corr exercise = {}'.format(corr_exercise_JR_VR))"
   ]
  },
  {
   "cell_type": "code",
   "execution_count": null,
   "metadata": {},
   "outputs": [
    {
     "data": {
      "text/plain": [
       "Text(0.5, 0, 'Pricing method')"
      ]
     },
     "execution_count": 28,
     "metadata": {},
     "output_type": "execute_result"
    },
    {
     "data": {
      "image/png": "[encoded data removed]",
      "text/plain": [
       "<Figure size 1500x500 with 3 Axes>"
      ]
     },
     "metadata": {},
     "output_type": "display_data"
    }
   ],
   "source": [
    "#create three scatter subplots for each of the different path types and the standard errors for each pricing method. The pricing method on the x axis, i.e. normal, expiry or exercise and the se values on the y axis\n",
    "fig, ax = plt.subplots(2, 3, figsize=(15, 5))\n",
    "ax[0,0].scatter(['Normal', 'Expiry', 'Exercise'], [SE_GBM, SE_expiry_GBM, SE_exercise_GBM])\n",
    "ax[0,0].set_title('GBM')\n",
    "ax[0,1].scatter(['Normal', 'Expiry', 'Exercise'], [SE_LN, SE_expiry_LN, SE_exercise_LN])\n",
    "ax[0,1].set_title('LN')\n",
    "ax[0,2].scatter(['Normal', 'Expiry', 'Exercise'], [SE_JR, SE_expiry_JR, SE_exercise_JR])\n",
    "ax[0,2].set_title('JR')\n",
    "ax[1,0].scatter(['Normal', 'Expiry', 'Exercise'], [SE_GBM_VR, SE_expiry_GBM_VR, SE_exercise_GBM_VR])\n",
    "ax[1,0].set_title('GBM VR')\n",
    "ax[1,1].scatter(['Normal', 'Expiry', 'Exercise'], [SE_LN_VR, SE_expiry_LN_VR, SE_exercise_LN_VR])\n",
    "ax[1,1].set_title('LN VR')\n",
    "ax[1,2].scatter(['Normal', 'Expiry', 'Exercise'], [SE_JR_VR, SE_expiry_JR_VR, SE_exercise_JR_VR])\n",
    "ax[1,2].set_title('JR VR')\n",
    "plt.show()"
   ]
  },
  {
   "cell_type": "code",
   "execution_count": null,
   "metadata": {},
   "outputs": [],
   "source": [
    "#create 6 scatter subplots for each of the different path types and the corr values for each pricing method. The pricing method on the x axis, i.e. normal, expiry or exercise and the corr values on the y axis\n",
    "fig, ax = plt.subplots(2, 3, figsize=(15, 10))\n",
    "ax[0,0].scatter(['Expiry', 'Exercise'], [corr_expiry_GBM, corr_exercise_GBM])\n",
    "ax[0,0].set_title('GBM')\n",
    "ax[0,0].set_ylabel('Correlation')\n",
    "ax[0,0].set_xlabel('Pricing method')\n",
    "ax[0,1].scatter(['Expiry', 'Exercise'], [corr_expiry_LN, corr_exercise_LN])\n",
    "ax[0,1].set_title('LN')\n",
    "ax[0,1].set_ylabel('Correlation')\n",
    "ax[0,1].set_xlabel('Pricing method')\n",
    "ax[0,2].scatter(['Expiry', 'Exercise'], [corr_expiry_JR, corr_exercise_JR])\n",
    "ax[0,2].set_title('JR')\n",
    "ax[0,2].set_ylabel('Correlation')\n",
    "ax[0,2].set_xlabel('Pricing method')\n",
    "ax[1,0].scatter(['Expiry', 'Exercise'], [corr_expiry_GBM_VR, corr_exercise_GBM_VR])\n",
    "ax[1,0].set_title('GBM VR')\n",
    "ax[1,0].set_ylabel('Correlation')\n",
    "ax[1,0].set_xlabel('Pricing method')\n",
    "ax[1,1].scatter(['Expiry', 'Exercise'], [corr_expiry_LN_VR, corr_exercise_LN_VR])\n",
    "ax[1,1].set_title('LN VR')\n",
    "ax[1,1].set_ylabel('Correlation')\n",
    "ax[1,1].set_xlabel('Pricing method')\n",
    "ax[1,2].scatter(['Expiry', 'Exercise'], [corr_expiry_JR_VR, corr_exercise_JR_VR])\n",
    "ax[1,2].set_title('JR VR')\n",
    "ax[1,2].set_ylabel('Correlation')\n",
    "ax[1,2].set_xlabel('Pricing method')\n",
    "plt.show()"
   ]
  }
 ],
 "metadata": {
  "kernelspec": {
   "display_name": "base",
   "language": "python",
   "name": "python3"
  },
  "language_info": {
   "codemirror_mode": {
    "name": "ipython",
    "version": 3
   },
   "file_extension": ".py",
   "mimetype": "text/x-python",
   "name": "python",
   "nbconvert_exporter": "python",
   "pygments_lexer": "ipython3",
   "version": "3.9.13"
  }
 },
 "nbformat": 4,
 "nbformat_minor": 2
}
