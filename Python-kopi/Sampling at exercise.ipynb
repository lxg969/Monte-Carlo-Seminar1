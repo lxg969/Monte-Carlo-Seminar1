{
 "cells": [
  {
   "cell_type": "code",
   "execution_count": 181,
   "metadata": {},
   "outputs": [],
   "source": [
    "import matplotlib.pyplot as plt\n",
    "plt.style.use('ggplot')\n",
    "import numpy as np\n",
    "from numpy import zeros_like\n",
    "from IPython.display import display\n",
    "def display_matrix(m):\n",
    "    display(sympy.Matrix(m))\n",
    "import sympy\n",
    "import pandas as pd\n",
    "import scipy.stats as ss\n",
    "\n",
    "sympy.init_printing()\n",
    "\n",
    "from Pricer import Pricer\n",
    "from Processes import Processes\n",
    "\n",
    "from scipy.stats.qmc import Sobol\n",
    "from scipy.stats import norm"
   ]
  },
  {
   "cell_type": "code",
   "execution_count": 182,
   "metadata": {},
   "outputs": [
    {
     "name": "stdout",
     "output_type": "stream",
     "text": [
      "Processes class created with S0 = 37, paths = 1000, I = 250, T = 1\n"
     ]
    }
   ],
   "source": [
    "basis = 'leguerre'\n",
    "\n",
    "# parameters\n",
    "\n",
    "mu = 0.06\n",
    "r = 0.06\n",
    "sigma = 0.04\n",
    "T = 1\n",
    "I = 250\n",
    "paths = 1000\n",
    "S0 = 37\n",
    "S0_list = range(37, 43, 1)\n",
    "m = 0\n",
    "K = 40\n",
    "deg = 3\n",
    "\n",
    "GBM_sigma = sigma\n",
    "GBM_mu = r\n",
    "\n",
    "LN_lam = 1\n",
    "LN_sigma = 0.02\n",
    "LN_mu = r\n",
    "LN_v = 0.02\n",
    "\n",
    "JR_lam = 0.01\n",
    "JR_sigma = 0.03\n",
    "JR_mu = r + JR_lam\n",
    "\n",
    "LNparams = (LN_lam, LN_sigma, LN_mu, LN_v, m)\n",
    "JRparams = (JR_lam, JR_sigma, JR_mu)\n",
    "GBMparams = (GBM_mu, GBM_sigma)\n",
    "\n",
    "# instance\n",
    "processes = Processes(S0, r, T, K, paths, I, LNparams, JRparams, GBMparams)\n",
    "pricer = Pricer(S0, r, sigma, T, K, paths, I, LNparams, JRparams, GBMparams)"
   ]
  },
  {
   "cell_type": "code",
   "execution_count": 183,
   "metadata": {},
   "outputs": [],
   "source": [
    "#GBM_paths = processes.gbm_paths()\n",
    "#LN_paths = processes.merton_jump_paths()\n",
    "#JR_paths = processes.merton_jump_to_ruin_paths()\n",
    "\n",
    "GBM_paths = processes.gbm_paths_antithetic()\n",
    "LN_paths = processes.merton_jump_paths_antithetic()\n",
    "JR_paths = processes.merton_jump_to_ruin_paths_antithetic()"
   ]
  },
  {
   "cell_type": "code",
   "execution_count": 184,
   "metadata": {},
   "outputs": [],
   "source": [
    "V0_GBM, V0_array_GBM, SE_GBM, exercise_matrix_GBM, V_GBM = pricer.LSM(GBM_paths, basis, deg)\n",
    "V0_LN, V0_array_LN, SE_LN, exercise_matrix_LN, V_LN = pricer.LSM(LN_paths, basis, deg)\n",
    "V0_JR, V0_array_JR, SE_JR, exercise_matrix_JR, V_JR = pricer.LSM(JR_paths, basis, deg)"
   ]
  },
  {
   "cell_type": "markdown",
   "metadata": {},
   "source": [
    "# Sampling at expiry"
   ]
  },
  {
   "cell_type": "code",
   "execution_count": 185,
   "metadata": {},
   "outputs": [],
   "source": [
    "def sampling_at_expiry(type):\n",
    "    if type=='GBM':\n",
    "        paths = GBM_paths\n",
    "        euro_payoff = pricer.closed_formula_GBM(S0, K, T, r, sigma)\n",
    "        crude_monte_carlo_european = pricer.crude_monte_carlo_european(paths)\n",
    "        cov = np.cov(crude_monte_carlo_european, V0_array_GBM)\n",
    "        alpha = -cov[0,1]/cov[0,0]\n",
    "        adjusted_payoff = V0_GBM + alpha * (crude_monte_carlo_european - np.mean(euro_payoff))\n",
    "        SE = np.std(adjusted_payoff)/np.sqrt(len(paths))\n",
    "        return adjusted_payoff, SE\n",
    "    \n",
    "    elif type=='LN':\n",
    "        paths = LN_paths\n",
    "        euro_payoff = pricer.closed_formula_LN(S0, K, T, r, 10000)\n",
    "        crude_monte_carlo_european = pricer.crude_monte_carlo_european(paths)\n",
    "        cov = np.cov(crude_monte_carlo_european, V0_array_LN)\n",
    "        alpha = -cov[0,1]/cov[0,0]\n",
    "        adjusted_payoff = V0_LN + alpha * (crude_monte_carlo_european - np.mean(euro_payoff))\n",
    "        SE = np.std(adjusted_payoff)/np.sqrt(len(paths))\n",
    "        return adjusted_payoff, SE\n",
    "    \n",
    "    else:\n",
    "        paths = JR_paths\n",
    "        euro_payoff = pricer.closed_formula_JR(S0, K, T, r, sigma)\n",
    "        crude_monte_carlo_european = pricer.crude_monte_carlo_european(paths)\n",
    "        cov = np.cov(crude_monte_carlo_european, V0_array_JR)\n",
    "        alpha = -cov[0,1]/cov[0,0]\n",
    "        adjusted_payoff = V0_JR + alpha * (crude_monte_carlo_european - np.mean(euro_payoff))\n",
    "        SE = np.std(adjusted_payoff)/np.sqrt(len(paths))\n",
    "        return adjusted_payoff, SE"
   ]
  },
  {
   "cell_type": "code",
   "execution_count": 186,
   "metadata": {},
   "outputs": [],
   "source": [
    "GBM_sampling_at_expiry, GBM_SE_sampling_at_expiry = sampling_at_expiry('GBM')\n",
    "LN_sampling_at_expiry, LN_SE_sampling_at_expiry = sampling_at_expiry('LN')\n",
    "JR_sampling_at_expiry, JR_SE_sampling_at_expiry = sampling_at_expiry('JR')"
   ]
  },
  {
   "cell_type": "markdown",
   "metadata": {},
   "source": [
    "# Sampling at exercise"
   ]
  },
  {
   "cell_type": "code",
   "execution_count": 187,
   "metadata": {},
   "outputs": [],
   "source": [
    "def sampling_at_exercise(paths):\n",
    "    if paths == 'GBM_paths':\n",
    "        european_put_prices = np.zeros_like(exercise_matrix_GBM, dtype=float)\n",
    "\n",
    "        for path in range(exercise_matrix_GBM.shape[0]):\n",
    "            for time in range(exercise_matrix_GBM.shape[1]):\n",
    "                if exercise_matrix_GBM[path, time]:\n",
    "                    S_at_exercise = GBM_paths[path, time]\n",
    "                    t = time * (T / I)  # Current time in years\n",
    "                    undiscounted_price = pricer.closed_formula_GBM(S_at_exercise, K, T-t, r, sigma)\n",
    "                    discount_factor = np.exp(-r * t)  # Discount factor back to time 0\n",
    "                    european_put_prices[path, time] = undiscounted_price * discount_factor\n",
    "\n",
    "        first_exercise_prices = np.zeros(european_put_prices.shape[0])\n",
    "\n",
    "        for path in range(european_put_prices.shape[0]):\n",
    "            # Find the first non-zero price for this path\n",
    "            first_exercise_price = next((price for price in european_put_prices[path, :] if price > 0), 0)\n",
    "            first_exercise_prices[path] = first_exercise_price\n",
    "\n",
    "        crude_monte_carlo_european_GBM = pricer.crude_monte_carlo_european(GBM_paths)\n",
    "\n",
    "        cov = np.cov(crude_monte_carlo_european_GBM, V0_array_GBM)\n",
    "\n",
    "        alpha = -cov[0, 1] / cov[0, 0]\n",
    "\n",
    "        adjusted_payoff = V0_GBM + alpha * (crude_monte_carlo_european_GBM - np.mean(first_exercise_prices))\n",
    "\n",
    "    elif paths == 'LN_p aths':\n",
    "\n",
    "        european_put_prices = np.zeros_like(exercise_matrix_LN, dtype=float)\n",
    "\n",
    "        for path in range(exercise_matrix_LN.shape[0]):\n",
    "            for time in range(exercise_matrix_LN.shape[1]):\n",
    "                if exercise_matrix_LN[path, time]:\n",
    "                    S_at_exercise = LN_paths[path, time]\n",
    "                    t = time * (T / I)  # Current time in years\n",
    "                    undiscounted_price = pricer.closed_formula_LN(S_at_exercise, K, T-t, r, 1000000)\n",
    "                    discount_factor = np.exp(-r * t)  # Discount factor back to time 0\n",
    "                    european_put_prices[path, time] = undiscounted_price * discount_factor\n",
    "\n",
    "        first_exercise_prices = np.zeros(european_put_prices.shape[0])\n",
    "\n",
    "        for path in range(european_put_prices.shape[0]):\n",
    "            # Find the first non-zero price for this path\n",
    "            first_exercise_price = next((price for price in european_put_prices[path, :] if price > 0), 0)\n",
    "            first_exercise_prices[path] = first_exercise_price\n",
    "\n",
    "        crude_monte_carlo_european = pricer.crude_monte_carlo_european(LN_paths)\n",
    "\n",
    "        cov = np.cov(crude_monte_carlo_european, V0_array_LN)\n",
    "\n",
    "        alpha = -cov[0, 1] / cov[0, 0]\n",
    "\n",
    "        adjusted_payoff = V0_LN + alpha * (crude_monte_carlo_european - np.mean(first_exercise_prices))\n",
    "\n",
    "    else:\n",
    "        european_put_prices = np.zeros_like(exercise_matrix_JR, dtype=float)\n",
    "\n",
    "        for path in range(exercise_matrix_JR.shape[0]):\n",
    "            for time in range(exercise_matrix_JR.shape[1]):\n",
    "                if exercise_matrix_JR[path, time]:\n",
    "                    S_at_exercise = JR_paths[path, time]\n",
    "                    t = time * (T / I)  # Current time in years\n",
    "                    undiscounted_price = pricer.closed_formula_JR(S_at_exercise, K, T-t, r, sigma)\n",
    "                    discount_factor = np.exp(-r * t)  # Discount factor back to time 0\n",
    "                    european_put_prices[path, time] = undiscounted_price * discount_factor\n",
    "\n",
    "        first_exercise_prices = np.zeros(european_put_prices.shape[0])\n",
    "\n",
    "        for path in range(european_put_prices.shape[0]):\n",
    "            # Find the first non-zero price for this path\n",
    "            first_exercise_price = next((price for price in european_put_prices[path, :] if price > 0), 0)\n",
    "            first_exercise_prices[path] = first_exercise_price\n",
    "\n",
    "        crude_monte_carlo_european = pricer.crude_monte_carlo_european(JR_paths)\n",
    "\n",
    "        cov = np.cov(crude_monte_carlo_european, V0_array_JR)\n",
    "\n",
    "        alpha = -cov[0, 1] / cov[0, 0]\n",
    "\n",
    "        adjusted_payoff = V0_JR + alpha * (crude_monte_carlo_european - np.mean(first_exercise_prices))\n",
    "    return adjusted_payoff"
   ]
  },
  {
   "cell_type": "code",
   "execution_count": 188,
   "metadata": {},
   "outputs": [
    {
     "name": "stderr",
     "output_type": "stream",
     "text": [
      "/Users/philipgadereumert/Desktop/Uni/Kandidat/År 1/Seimar Monte Carlo Finance Econometrics/Python/Pricer.py:30: RuntimeWarning: divide by zero encountered in log\n",
      "  d1 = (np.log(S0 / K) + (r + sigma**2 / 2) * T) / (sigma * np.sqrt(T))\n"
     ]
    }
   ],
   "source": [
    "GBM_sampling_at_exercise = sampling_at_exercise('GBM_paths')\n",
    "LN_sampling_at_exercise= sampling_at_exercise('LN_paths')\n",
    "JR_sampling_at_exercise= sampling_at_exercise('JR_paths')"
   ]
  },
  {
   "cell_type": "code",
   "execution_count": 189,
   "metadata": {},
   "outputs": [],
   "source": [
    "GBM_SE_sampling_at_exercise = np.std(GBM_sampling_at_exercise)/np.sqrt(len(GBM_paths))\n",
    "LN_SE_sampling_at_exercise = np.std(LN_sampling_at_exercise)/np.sqrt(len(LN_paths))\n",
    "JR_SE_sampling_at_exercise = np.std(JR_sampling_at_exercise)/np.sqrt(len(JR_paths))"
   ]
  },
  {
   "cell_type": "code",
   "execution_count": 190,
   "metadata": {},
   "outputs": [
    {
     "name": "stdout",
     "output_type": "stream",
     "text": [
      "GBM\n",
      "sampling at expiry: 0.0001106874039731872\n",
      "sampling at exercise:  0.00011068740397318773\n",
      "LSM: 0.0020898516072104735\n",
      "LN\n",
      "sampling at expiry:  4.6789495264781194e-05\n",
      "sampling at exercise:  4.678949526478118e-05\n",
      "LSM: 0.0013044128978395133\n",
      "JR\n",
      "sampling at expiry:  0.005755132357228153\n",
      "sampling at exercise:  0.005755132357228154\n",
      "LSM: 0.02623827768864536\n"
     ]
    }
   ],
   "source": [
    "print('GBM')\n",
    "print('sampling at expiry:', GBM_SE_sampling_at_expiry)\n",
    "print('sampling at exercise: ', GBM_SE_sampling_at_exercise)\n",
    "print('LSM:' , SE_GBM)\n",
    "\n",
    "print('LN')\n",
    "print('sampling at expiry: ', LN_SE_sampling_at_expiry)\n",
    "print('sampling at exercise: ', LN_SE_sampling_at_exercise)\n",
    "print('LSM:' , SE_LN)\n",
    "\n",
    "print('JR')\n",
    "print('sampling at expiry: ', JR_SE_sampling_at_expiry)\n",
    "print('sampling at exercise: ', JR_SE_sampling_at_exercise)\n",
    "print('LSM:' , SE_JR)"
   ]
  },
  {
   "cell_type": "code",
   "execution_count": 191,
   "metadata": {},
   "outputs": [
    {
     "name": "stdout",
     "output_type": "stream",
     "text": [
      "GBM\n",
      "sampling at expiry:  0.0001106874039731872\n",
      "sampling at exercise:  0.00011068740397318773\n",
      "LSM: 0.0020898516072104735\n",
      "LN\n",
      "sampling at expiry:  4.6789495264781194e-05\n",
      "sampling at exercise:  4.678949526478118e-05\n",
      "LSM: 0.0013044128978395133\n",
      "JR\n",
      "sampling at expiry:  0.005755132357228153\n",
      "sampling at exercise:  0.005755132357228154\n",
      "LSM: 0.02623827768864536\n"
     ]
    }
   ],
   "source": [
    "print('GBM')\n",
    "print('sampling at expiry: ', GBM_SE_sampling_at_expiry)\n",
    "print('sampling at exercise: ', GBM_SE_sampling_at_exercise)\n",
    "print('LSM:' , SE_GBM)\n",
    "\n",
    "print('LN')\n",
    "print('sampling at expiry: ', LN_SE_sampling_at_expiry)\n",
    "print('sampling at exercise: ', LN_SE_sampling_at_exercise)\n",
    "print('LSM:' , SE_LN)\n",
    "\n",
    "print('JR')\n",
    "print('sampling at expiry: ', JR_SE_sampling_at_expiry)\n",
    "print('sampling at exercise: ', JR_SE_sampling_at_exercise)\n",
    "print('LSM:' , SE_JR)"
   ]
  }
 ],
 "metadata": {
  "kernelspec": {
   "display_name": "base",
   "language": "python",
   "name": "python3"
  },
  "language_info": {
   "codemirror_mode": {
    "name": "ipython",
    "version": 3
   },
   "file_extension": ".py",
   "mimetype": "text/x-python",
   "name": "python",
   "nbconvert_exporter": "python",
   "pygments_lexer": "ipython3",
   "version": "3.9.13"
  }
 },
 "nbformat": 4,
 "nbformat_minor": 2
}
