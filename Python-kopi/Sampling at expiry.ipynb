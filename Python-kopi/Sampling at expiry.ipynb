{
 "cells": [
  {
   "cell_type": "code",
   "execution_count": 87,
   "metadata": {},
   "outputs": [],
   "source": [
    "import matplotlib.pyplot as plt\n",
    "plt.style.use('ggplot')\n",
    "import numpy as np\n",
    "from numpy import zeros_like\n",
    "from IPython.display import display\n",
    "def display_matrix(m):\n",
    "    display(sympy.Matrix(m))\n",
    "import sympy\n",
    "import pandas as pd\n",
    "import scipy.stats as ss\n",
    "\n",
    "sympy.init_printing()\n",
    "\n",
    "from Pricer import Pricer\n",
    "from Processes import Processes\n",
    "\n",
    "from scipy.stats.qmc import Sobol\n",
    "from scipy.stats import norm"
   ]
  },
  {
   "cell_type": "code",
   "execution_count": 88,
   "metadata": {},
   "outputs": [
    {
     "name": "stdout",
     "output_type": "stream",
     "text": [
      "Processes class created with S0 = 40, paths = 1000, I = 250, T = 1\n"
     ]
    }
   ],
   "source": [
    "basis = 'leguerre'\n",
    "\n",
    "# parameters\n",
    "\n",
    "mu = 0.06\n",
    "r = 0.06\n",
    "sigma = 0.04\n",
    "T = 1\n",
    "I = 250\n",
    "paths = 1000\n",
    "S0 = 40\n",
    "S0_list = range(37, 43, 1)\n",
    "m = 0\n",
    "K = 40\n",
    "deg = 3\n",
    "\n",
    "GBM_sigma = sigma\n",
    "GBM_mu = r\n",
    "\n",
    "LN_lam = 1\n",
    "LN_sigma = 0.02\n",
    "LN_mu = r\n",
    "LN_v = 0.02\n",
    "\n",
    "JR_lam = 0.01\n",
    "JR_sigma = 0.03\n",
    "JR_mu = r + JR_lam\n",
    "\n",
    "LNparams = (LN_lam, LN_sigma, LN_mu, LN_v, m)\n",
    "JRparams = (JR_lam, JR_sigma, JR_mu)\n",
    "GBMparams = (GBM_mu, GBM_sigma)\n",
    "\n",
    "# instance\n",
    "processes = Processes(S0, r, T, K, paths, I, LNparams, JRparams, GBMparams)\n",
    "pricer = Pricer(S0, r, sigma, T, K, paths, I, LNparams, JRparams, GBMparams)"
   ]
  },
  {
   "cell_type": "code",
   "execution_count": 89,
   "metadata": {},
   "outputs": [],
   "source": [
    "GBM_paths = processes.gbm_paths()\n",
    "LN_paths = processes.merton_jump_paths()\n",
    "JR_paths = processes.merton_jump_to_ruin_paths()"
   ]
  },
  {
   "cell_type": "code",
   "execution_count": 90,
   "metadata": {},
   "outputs": [],
   "source": [
    "#european price\n",
    "GBM_euro_payoff = pricer.closed_formula_GBM(S0, K, T, r, sigma)\n",
    "LN_euro_payoff = pricer.closed_formula_LN(S0, K, T, r, 10000)\n",
    "JR_euro_payoff = pricer.closed_formula_JR(S0, K, T, r, sigma)"
   ]
  },
  {
   "cell_type": "code",
   "execution_count": 91,
   "metadata": {},
   "outputs": [],
   "source": [
    "V0_GBM, V0_array_GBM, SE_GBM, exercise_matrix_GBM, V_GBM = pricer.LSM(GBM_paths, basis, deg)\n",
    "V0_LN, V0_array_LN, SE_LN, exercise_matrix_LN, V_LN = pricer.LSM(LN_paths, basis, deg)\n",
    "V0_JR, V0_array_JR, SE_JR, exercise_matrix_JR, V_JR = pricer.LSM(JR_paths, basis, deg)"
   ]
  },
  {
   "cell_type": "code",
   "execution_count": 92,
   "metadata": {},
   "outputs": [
    {
     "name": "stdout",
     "output_type": "stream",
     "text": [
      "GBM european price:  0.045498454729779425 GBM LSM price:  0.18857544239305807\n",
      "LN european price:  0.07136569952451922 LN LSM price:  0.10122079453148475\n",
      "JR european price:  0.045498454729779425 JR LSM price:  0.36056464682530115\n"
     ]
    }
   ],
   "source": [
    "print('GBM european price: ', GBM_euro_payoff, 'GBM LSM price: ', V0_GBM)\n",
    "print('LN european price: ', LN_euro_payoff, 'LN LSM price: ', V0_LN)\n",
    "print('JR european price: ', JR_euro_payoff, 'JR LSM price: ', V0_JR)"
   ]
  },
  {
   "cell_type": "code",
   "execution_count": 93,
   "metadata": {},
   "outputs": [],
   "source": [
    "crude_monte_carlo_european_GBM = pricer.crude_monte_carlo_european(GBM_paths)\n",
    "crude_monte_carlo_european_LN = pricer.crude_monte_carlo_european(LN_paths)\n",
    "crude_monte_carlo_european_JR = pricer.crude_monte_carlo_european(JR_paths)"
   ]
  },
  {
   "cell_type": "code",
   "execution_count": 94,
   "metadata": {},
   "outputs": [],
   "source": [
    "cov_GBM = np.cov(crude_monte_carlo_european_GBM, V0_array_GBM)\n",
    "cov_LN = np.cov(crude_monte_carlo_european_LN, V0_array_LN)\n",
    "cov_JR = np.cov(crude_monte_carlo_european_JR, V0_array_JR)"
   ]
  },
  {
   "cell_type": "code",
   "execution_count": 95,
   "metadata": {},
   "outputs": [
    {
     "data": {
      "image/png": "[encoded data removed]",
      "text/latex": [
       "$\\displaystyle \\left[\\begin{matrix}0.0658359606583031 & 0.0166456648860821\\\\0.0166456648860821 & 0.055538745289183\\end{matrix}\\right]$"
      ],
      "text/plain": [
       "⎡0.0658359606583031  0.0166456648860821⎤\n",
       "⎢                                      ⎥\n",
       "⎣0.0166456648860821  0.055538745289183 ⎦"
      ]
     },
     "metadata": {},
     "output_type": "display_data"
    },
    {
     "data": {
      "image/png": "[encoded data removed]",
      "text/latex": [
       "$\\displaystyle \\left[\\begin{matrix}0.0140685015605487 & 0.0150233657355939\\\\0.0150233657355939 & 0.0763632509383861\\end{matrix}\\right]$"
      ],
      "text/plain": [
       "⎡0.0140685015605487  0.0150233657355939⎤\n",
       "⎢                                      ⎥\n",
       "⎣0.0150233657355939  0.0763632509383861⎦"
      ]
     },
     "metadata": {},
     "output_type": "display_data"
    },
    {
     "data": {
      "image/png": "[encoded data removed]",
      "text/latex": [
       "$\\displaystyle \\left[\\begin{matrix}11.2735587184181 & 11.4265193929346\\\\11.4265193929346 & 11.6030919845928\\end{matrix}\\right]$"
      ],
      "text/plain": [
       "⎡11.2735587184181  11.4265193929346⎤\n",
       "⎢                                  ⎥\n",
       "⎣11.4265193929346  11.6030919845928⎦"
      ]
     },
     "metadata": {},
     "output_type": "display_data"
    }
   ],
   "source": [
    "display_matrix(cov_GBM)\n",
    "display_matrix(cov_LN)\n",
    "display_matrix(cov_JR)"
   ]
  },
  {
   "cell_type": "code",
   "execution_count": 96,
   "metadata": {},
   "outputs": [
    {
     "name": "stdout",
     "output_type": "stream",
     "text": [
      "GBM cov: 0.016645664886082125\n",
      "LN cov: 0.015023365735593885\n",
      "JR cov: 11.426519392934644\n"
     ]
    }
   ],
   "source": [
    "print(f'GBM cov: ' + str(cov_GBM[0, 1]))\n",
    "print(f'LN cov: ' + str(cov_LN[0, 1]))\n",
    "print(f'JR cov: ' + str(cov_JR[0, 1]))\n"
   ]
  },
  {
   "cell_type": "code",
   "execution_count": 97,
   "metadata": {},
   "outputs": [],
   "source": [
    "alpha_GBM = -cov_GBM[0, 1] / cov_GBM[0, 0]\n",
    "alpha_LN = -cov_LN[0, 1] / cov_LN[0, 0]\n",
    "alpha_JR = -cov_JR[0, 1] / cov_JR[0, 0]"
   ]
  },
  {
   "cell_type": "code",
   "execution_count": 98,
   "metadata": {},
   "outputs": [
    {
     "name": "stdout",
     "output_type": "stream",
     "text": [
      "alpha_GBM:  -0.25283545223066184\n",
      "alpha_LN:  -1.0678724859883333\n",
      "alpha_JR:  -1.013568091348711\n"
     ]
    }
   ],
   "source": [
    "print('alpha_GBM: ', alpha_GBM)\n",
    "print('alpha_LN: ', alpha_LN)\n",
    "print('alpha_JR: ', alpha_JR)"
   ]
  },
  {
   "cell_type": "code",
   "execution_count": 99,
   "metadata": {},
   "outputs": [],
   "source": [
    "adjusted_payoff_GBM = V0_GBM + alpha_GBM * (crude_monte_carlo_european_GBM - np.mean(GBM_euro_payoff))\n",
    "adjusted_payoff_LN = V0_LN + alpha_LN * (crude_monte_carlo_european_LN - np.mean(LN_euro_payoff))\n",
    "adjusted_payoff_JR = V0_JR + alpha_JR * (crude_monte_carlo_european_JR - np.mean(JR_euro_payoff))"
   ]
  },
  {
   "cell_type": "code",
   "execution_count": 100,
   "metadata": {},
   "outputs": [],
   "source": [
    "corrected_GBM_price = np.mean(adjusted_payoff_GBM)\n",
    "corrected_LN_price = np.mean(adjusted_payoff_LN)\n",
    "corrected_JR_price = np.mean(adjusted_payoff_JR)"
   ]
  },
  {
   "cell_type": "code",
   "execution_count": 101,
   "metadata": {},
   "outputs": [],
   "source": [
    "correlated_GBM_SE = np.std(adjusted_payoff_GBM) / np.sqrt(paths)\n",
    "correlated_LN_SE = np.std(adjusted_payoff_LN) / np.sqrt(paths)\n",
    "correlated_JR_SE = np.std(adjusted_payoff_JR) / np.sqrt(paths)"
   ]
  },
  {
   "cell_type": "markdown",
   "metadata": {},
   "source": [
    "GBM"
   ]
  },
  {
   "cell_type": "code",
   "execution_count": 102,
   "metadata": {},
   "outputs": [
    {
     "name": "stdout",
     "output_type": "stream",
     "text": [
      "price and se before correction:  0.18857544239305807 0.007448705024626344\n",
      "price and se after correction:  0.18568339801947625 0.0020504647265787\n"
     ]
    }
   ],
   "source": [
    "print('price and se before correction: ', V0_GBM, SE_GBM)\n",
    "print('price and se after correction: ', corrected_GBM_price, correlated_GBM_SE)"
   ]
  },
  {
   "cell_type": "markdown",
   "metadata": {},
   "source": [
    "LN"
   ]
  },
  {
   "cell_type": "code",
   "execution_count": 103,
   "metadata": {},
   "outputs": [
    {
     "name": "stdout",
     "output_type": "stream",
     "text": [
      "price and se before correction:  0.10122079453148475 0.008734236525732963\n",
      "price and se after correction:  0.16186358800366593 0.0040033730624392935\n"
     ]
    }
   ],
   "source": [
    "print('price and se before correction: ', V0_LN, SE_LN)\n",
    "print('price and se after correction: ', corrected_LN_price, correlated_LN_SE)"
   ]
  },
  {
   "cell_type": "markdown",
   "metadata": {},
   "source": [
    "JR"
   ]
  },
  {
   "cell_type": "code",
   "execution_count": 104,
   "metadata": {},
   "outputs": [
    {
     "name": "stdout",
     "output_type": "stream",
     "text": [
      "price and se before correction:  0.36056464682530115 0.10766377706827952\n",
      "price and se after correction:  0.09544638716583463 0.10756381313622135\n"
     ]
    }
   ],
   "source": [
    "print('price and se before correction: ', V0_JR, SE_JR)\n",
    "print('price and se after correction: ', corrected_JR_price, correlated_JR_SE)"
   ]
  },
  {
   "cell_type": "code",
   "execution_count": 105,
   "metadata": {},
   "outputs": [],
   "source": [
    "price_diff_GBM = abs(corrected_GBM_price - GBM_euro_payoff)\n",
    "price_diff_LN = abs(corrected_LN_price - LN_euro_payoff)\n",
    "price_diff_JR = abs(corrected_JR_price - JR_euro_payoff)"
   ]
  },
  {
   "cell_type": "code",
   "execution_count": 106,
   "metadata": {},
   "outputs": [
    {
     "name": "stdout",
     "output_type": "stream",
     "text": [
      "price difference:  0.14018494328969683\n",
      "price difference:  0.09049788847914671\n",
      "price difference:  0.049947932436055206\n"
     ]
    }
   ],
   "source": [
    "print('price difference: ', price_diff_GBM)\n",
    "print('price difference: ', price_diff_LN)\n",
    "print('price difference: ', price_diff_JR)"
   ]
  },
  {
   "cell_type": "code",
   "execution_count": 107,
   "metadata": {},
   "outputs": [],
   "source": [
    "se_diff_GBM = abs(correlated_GBM_SE - SE_GBM)\n",
    "se_diff_LN = abs(correlated_LN_SE - SE_LN)\n",
    "se_diff_JR = abs(correlated_JR_SE - SE_JR)"
   ]
  },
  {
   "cell_type": "code",
   "execution_count": 108,
   "metadata": {},
   "outputs": [
    {
     "name": "stdout",
     "output_type": "stream",
     "text": [
      "se difference:  0.005398240298047644\n",
      "se difference:  0.00473086346329367\n",
      "se difference:  9.996393205817522e-05\n"
     ]
    }
   ],
   "source": [
    "print('se difference: ', se_diff_GBM)\n",
    "print('se difference: ', se_diff_LN)\n",
    "print('se difference: ', se_diff_JR)"
   ]
  },
  {
   "cell_type": "code",
   "execution_count": 110,
   "metadata": {},
   "outputs": [],
   "source": [
    "def sampling_at_exercise(paths):\n",
    "    if paths == 'GBM_paths':\n",
    "        european_put_prices = np.zeros_like(exercise_matrix_GBM, dtype=float)\n",
    "\n",
    "        for path in range(exercise_matrix_GBM.shape[0]):\n",
    "            for time in range(exercise_matrix_GBM.shape[1]):\n",
    "                if exercise_matrix_GBM[path, time]:\n",
    "                    S_at_exercise = GBM_paths[path, time]\n",
    "                    t = time * (T / I)  # Current time in years\n",
    "                    undiscounted_price = pricer.closed_formula_GBM(S_at_exercise, K, T-t, r, sigma)\n",
    "                    discount_factor = np.exp(-r * t)  # Discount factor back to time 0\n",
    "                    european_put_prices[path, time] = undiscounted_price * discount_factor\n",
    "\n",
    "        first_exercise_prices = np.zeros(european_put_prices.shape[0])\n",
    "\n",
    "        for path in range(european_put_prices.shape[0]):\n",
    "            # Find the first non-zero price for this path\n",
    "            first_exercise_price = next((price for price in european_put_prices[path, :] if price > 0), 0)\n",
    "            first_exercise_prices[path] = first_exercise_price\n",
    "\n",
    "        crude_monte_carlo_european_GBM = pricer.crude_monte_carlo_european(GBM_paths)\n",
    "\n",
    "        cov = np.cov(crude_monte_carlo_european_GBM, V0_array_GBM)\n",
    "\n",
    "        alpha = -cov[0, 1] / cov[0, 0]\n",
    "\n",
    "        adjusted_payoff = V0_GBM + alpha * (crude_monte_carlo_european_GBM - np.mean(first_exercise_prices))\n",
    "\n",
    "    elif paths == 'LN_paths':\n",
    "\n",
    "        european_put_prices = np.zeros_like(exercise_matrix_LN, dtype=float)\n",
    "\n",
    "        for path in range(exercise_matrix_LN.shape[0]):\n",
    "            for time in range(exercise_matrix_LN.shape[1]):\n",
    "                if exercise_matrix_LN[path, time]:\n",
    "                    S_at_exercise = LN_paths[path, time]\n",
    "                    t = time * (T / I)  # Current time in years\n",
    "                    undiscounted_price = pricer.closed_formula_LN(S_at_exercise, K, T-t, r, 1000000)\n",
    "                    discount_factor = np.exp(-r * t)  # Discount factor back to time 0\n",
    "                    european_put_prices[path, time] = undiscounted_price * discount_factor\n",
    "\n",
    "        first_exercise_prices = np.zeros(european_put_prices.shape[0])\n",
    "\n",
    "        for path in range(european_put_prices.shape[0]):\n",
    "            # Find the first non-zero price for this path\n",
    "            first_exercise_price = next((price for price in european_put_prices[path, :] if price > 0), 0)\n",
    "            first_exercise_prices[path] = first_exercise_price\n",
    "\n",
    "        crude_monte_carlo_european = pricer.crude_monte_carlo_european(LN_paths)\n",
    "\n",
    "        cov = np.cov(crude_monte_carlo_european, V0_array_LN)\n",
    "\n",
    "        alpha = -cov[0, 1] / cov[0, 0]\n",
    "\n",
    "        adjusted_payoff = V0_LN + alpha * (crude_monte_carlo_european - np.mean(first_exercise_prices))\n",
    "\n",
    "    else:\n",
    "        european_put_prices = np.zeros_like(exercise_matrix_JR, dtype=float)\n",
    "\n",
    "        for path in range(exercise_matrix_JR.shape[0]):\n",
    "            for time in range(exercise_matrix_JR.shape[1]):\n",
    "                if exercise_matrix_JR[path, time]:\n",
    "                    S_at_exercise = JR_paths[path, time]\n",
    "                    t = time * (T / I)  # Current time in years\n",
    "                    undiscounted_price = pricer.closed_formula_JR(S_at_exercise, K, T-t, r, sigma)\n",
    "                    discount_factor = np.exp(-r * t)  # Discount factor back to time 0\n",
    "                    european_put_prices[path, time] = undiscounted_price * discount_factor\n",
    "\n",
    "        first_exercise_prices = np.zeros(european_put_prices.shape[0])\n",
    "\n",
    "        for path in range(european_put_prices.shape[0]):\n",
    "            # Find the first non-zero price for this path\n",
    "            first_exercise_price = next((price for price in european_put_prices[path, :] if price > 0), 0)\n",
    "            first_exercise_prices[path] = first_exercise_price\n",
    "\n",
    "        crude_monte_carlo_european = pricer.crude_monte_carlo_european(JR_paths)\n",
    "\n",
    "        cov = np.cov(crude_monte_carlo_european, V0_array_JR)\n",
    "\n",
    "        alpha = -cov[0, 1] / cov[0, 0]\n",
    "\n",
    "        adjusted_payoff = V0_JR + alpha * (crude_monte_carlo_european - np.mean(first_exercise_prices))\n",
    "    return adjusted_payoff"
   ]
  },
  {
   "cell_type": "code",
   "execution_count": 111,
   "metadata": {},
   "outputs": [
    {
     "name": "stderr",
     "output_type": "stream",
     "text": [
      "/Users/philipgadereumert/Desktop/Uni/Kandidat/År 1/Seimar Monte Carlo Finance Econometrics/Python/Pricer.py:30: RuntimeWarning: divide by zero encountered in log\n",
      "  d1 = (np.log(S0 / K) + (r + sigma**2 / 2) * T) / (sigma * np.sqrt(T))\n"
     ]
    }
   ],
   "source": [
    "GBM_sampling_at_exercise = sampling_at_exercise('GBM_paths')\n",
    "LN_sampling_at_exercise= sampling_at_exercise('LN_paths')\n",
    "JR_sampling_at_exercise= sampling_at_exercise('JR_paths')"
   ]
  },
  {
   "cell_type": "code",
   "execution_count": 112,
   "metadata": {},
   "outputs": [
    {
     "name": "stdout",
     "output_type": "stream",
     "text": [
      "GBM LSM price:  0.18857544239305807\n",
      "GBM LSM price:  0.18620239874909397\n",
      "LN LSM price:  0.10122079453148475\n",
      "LN LSM price:  0.12368430859128042\n",
      "JR LSM price:  0.36056464682530115\n",
      "JR LSM price:  0.38777757641514654\n"
     ]
    }
   ],
   "source": [
    "print('GBM LSM price: ', V0_GBM)\n",
    "print('GBM LSM price: ', np.mean(GBM_sampling_at_exercise))\n",
    "\n",
    "print('LN LSM price: ', V0_LN)\n",
    "print('LN LSM price: ', np.mean(LN_sampling_at_exercise))\n",
    "\n",
    "print('JR LSM price: ', V0_JR)\n",
    "print('JR LSM price: ', np.mean(JR_sampling_at_exercise))"
   ]
  },
  {
   "cell_type": "code",
   "execution_count": 114,
   "metadata": {},
   "outputs": [
    {
     "name": "stdout",
     "output_type": "stream",
     "text": [
      "sampling at exercise standard errors\n",
      "GBM: 0.0020504647265787\n",
      "LN:  0.0040033730624392935\n",
      "JR:  0.10756381313622136\n",
      "sampling at expiry standard errors\n",
      "GBM:  0.0020504647265787\n",
      "LN:  0.0040033730624392935\n",
      "JR:  0.10756381313622135\n"
     ]
    }
   ],
   "source": [
    "print('sampling at exercise standard errors')\n",
    "print('GBM:', np.std(GBM_sampling_at_exercise) / np.sqrt(paths))\n",
    "print('LN: ', np.std(LN_sampling_at_exercise) / np.sqrt(paths))\n",
    "print('JR: ', np.std(JR_sampling_at_exercise) / np.sqrt(paths))\n",
    "\n",
    "print('sampling at expiry standard errors')\n",
    "print('GBM: ', correlated_GBM_SE)\n",
    "print('LN: ', correlated_LN_SE)\n",
    "print('JR: ', correlated_JR_SE)"
   ]
  },
  {
   "cell_type": "code",
   "execution_count": null,
   "metadata": {},
   "outputs": [],
   "source": []
  }
 ],
 "metadata": {
  "kernelspec": {
   "display_name": "base",
   "language": "python",
   "name": "python3"
  },
  "language_info": {
   "codemirror_mode": {
    "name": "ipython",
    "version": 3
   },
   "file_extension": ".py",
   "mimetype": "text/x-python",
   "name": "python",
   "nbconvert_exporter": "python",
   "pygments_lexer": "ipython3",
   "version": "3.9.13"
  }
 },
 "nbformat": 4,
 "nbformat_minor": 2
}
