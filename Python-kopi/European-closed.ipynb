{
 "cells": [
  {
   "cell_type": "code",
   "execution_count": 3,
   "metadata": {},
   "outputs": [],
   "source": [
    "import matplotlib.pyplot as plt\n",
    "plt.style.use('ggplot')\n",
    "import numpy as np\n",
    "import pandas as pd\n",
    "import scipy.stats as ss\n",
    "import matplotlib.pyplot as plt\n",
    "from math import factorial"
   ]
  },
  {
   "cell_type": "markdown",
   "metadata": {},
   "source": [
    "# Simulation"
   ]
  },
  {
   "cell_type": "code",
   "execution_count": 48,
   "metadata": {},
   "outputs": [],
   "source": [
    "S0_list = np.arange(36, 50 , 2)\n",
    "\n",
    "K = 40\n",
    "r = 0.06\n",
    "T = 1\n",
    "I = 50\n",
    "paths = 100000\n",
    "dt = T / I\n",
    "sigma = 0.04\n",
    "\n",
    "GBM_lam = 0\n",
    "GBM_sigma = 0.04\n",
    "\n",
    "LN_lam = 1\n",
    "LN_sigma = 0.02\n",
    "LN_delta2 = 0.02\n",
    "\n",
    "JR_lam = 0.05\n",
    "JR_sigma = 0.03"
   ]
  },
  {
   "cell_type": "code",
   "execution_count": 49,
   "metadata": {},
   "outputs": [],
   "source": [
    "# Containers for storing matrices\n",
    "GBM_matrices = {}\n",
    "LN_matrices = {}\n",
    "JR_matrices = {}\n",
    "\n",
    "# Containers for storing prices\n",
    "GBM_prices = []\n",
    "LN_prices = []\n",
    "JR_prices = []\n",
    "\n",
    "# Containers for storing standard errors\n",
    "GBM_se_values = []\n",
    "LN_se_values = []\n",
    "JR_se_values = []\n",
    "\n",
    "# Sample mean and variance\n",
    "GBM_mean = []\n",
    "GBM_var = []\n",
    "LN_mean = []\n",
    "LN_var = []\n",
    "JR_mean = []\n",
    "JR_var = []"
   ]
  },
  {
   "cell_type": "markdown",
   "metadata": {},
   "source": [
    "# European Closed"
   ]
  },
  {
   "cell_type": "code",
   "execution_count": 50,
   "metadata": {},
   "outputs": [],
   "source": [
    "def closed_formula_GBM(S0, r, sigma, T, K):\n",
    "    \"\"\"\n",
    "    Black Scholes closed formula:\n",
    "    \"\"\"\n",
    "    d1 = (np.log(S0 / K) + (r + sigma**2 / 2) * T) / (sigma * np.sqrt(T))\n",
    "    d2 = d1 - sigma * np.sqrt(T)\n",
    "    return K * np.exp(-r * T) * ss.norm.cdf(-d2) - S0 * ss.norm.cdf(-d1)\n",
    "\n",
    "def closed_formula_LN(S0):\n",
    "    tot = 0\n",
    "    for n in range(10):\n",
    "        tot += (np.exp(-LN_lam * T) * (LN_lam * T) ** n / factorial(n))*closed_formula_GBM(S0, r, np.sqrt(sigma**2 + n * LN_delta2**2 / T), T, K)\n",
    "        return tot\n",
    "    \n",
    "def closed_formula_JR(S0):\n",
    "    return closed_formula_GBM(S0, (r+JR_lam), sigma, T, K)"
   ]
  },
  {
   "cell_type": "code",
   "execution_count": 51,
   "metadata": {},
   "outputs": [
    {
     "name": "stdout",
     "output_type": "stream",
     "text": [
      "S0 = 36:\n",
      "  European_GBM: 1.765\n",
      "  European_LN: 0.6493\n",
      "  European_JR: 0.4936\n",
      "\n",
      "S0 = 38:\n",
      "  European_GBM: 0.4533\n",
      "  European_LN: 0.1667\n",
      "  European_JR: 0.0465\n",
      "\n",
      "S0 = 40:\n",
      "  European_GBM: 0.0455\n",
      "  European_LN: 0.0167\n",
      "  European_JR: 0.0014\n",
      "\n",
      "S0 = 42:\n",
      "  European_GBM: 0.0016\n",
      "  European_LN: 0.0006\n",
      "  European_JR: 0.0\n",
      "\n",
      "S0 = 44:\n",
      "  European_GBM: 0.0\n",
      "  European_LN: 0.0\n",
      "  European_JR: 0.0\n",
      "\n",
      "S0 = 46:\n",
      "  European_GBM: 0.0\n",
      "  European_LN: 0.0\n",
      "  European_JR: 0.0\n",
      "\n",
      "S0 = 48:\n",
      "  European_GBM: 0.0\n",
      "  European_LN: 0.0\n",
      "  European_JR: 0.0\n",
      "\n"
     ]
    }
   ],
   "source": [
    "# Print the V0 price for each model and each S0\n",
    "for i, S0 in enumerate(S0_list):\n",
    "    print(f\"S0 = {S0}:\")\n",
    "    print(f\"  European_GBM: {closed_formula_GBM(S0, r, sigma, T, K).round(4)}\")\n",
    "    print(f\"  European_LN: {closed_formula_LN(S0).round(4)}\")\n",
    "    print(f\"  European_JR: {closed_formula_JR(S0).round(4)}\")\n",
    "    print()"
   ]
  },
  {
   "cell_type": "code",
   "execution_count": null,
   "metadata": {},
   "outputs": [],
   "source": []
  }
 ],
 "metadata": {
  "kernelspec": {
   "display_name": "base",
   "language": "python",
   "name": "python3"
  },
  "language_info": {
   "codemirror_mode": {
    "name": "ipython",
    "version": 3
   },
   "file_extension": ".py",
   "mimetype": "text/x-python",
   "name": "python",
   "nbconvert_exporter": "python",
   "pygments_lexer": "ipython3",
   "version": "3.8.8"
  }
 },
 "nbformat": 4,
 "nbformat_minor": 2
}
