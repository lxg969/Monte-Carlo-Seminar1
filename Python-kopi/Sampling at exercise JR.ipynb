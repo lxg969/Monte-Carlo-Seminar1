{
 "cells": [
  {
   "cell_type": "code",
   "execution_count": 17,
   "metadata": {},
   "outputs": [],
   "source": [
    "import matplotlib.pyplot as plt\n",
    "plt.style.use('ggplot')\n",
    "import numpy as np\n",
    "from numpy import zeros_like\n",
    "from IPython.display import display\n",
    "def display_matrix(m):\n",
    "    display(sympy.Matrix(m))\n",
    "import sympy\n",
    "import pandas as pd\n",
    "import scipy.stats as ss\n",
    "\n",
    "sympy.init_printing()\n",
    "\n",
    "from Pricer import Pricer\n",
    "from Processes import Processes\n",
    "\n",
    "from scipy.stats.qmc import Sobol\n",
    "from scipy.stats import norm"
   ]
  },
  {
   "cell_type": "code",
   "execution_count": 18,
   "metadata": {},
   "outputs": [
    {
     "name": "stdout",
     "output_type": "stream",
     "text": [
      "Processes class created with S0 = 40, paths = 1000, I = 250, T = 1\n"
     ]
    }
   ],
   "source": [
    "basis = 'leguerre'\n",
    "\n",
    "# parameters\n",
    "\n",
    "mu = 0.06\n",
    "r = 0.06\n",
    "sigma = 0.04\n",
    "T = 1\n",
    "I = 250\n",
    "paths = 1000\n",
    "S0 = 40\n",
    "S0_list = range(37, 43, 1)\n",
    "m = 0\n",
    "K = 40\n",
    "deg = 3\n",
    "df = np.exp(-r * T/I)\n",
    "\n",
    "GBM_sigma = sigma\n",
    "GBM_mu = r\n",
    "\n",
    "LN_lam = 1\n",
    "LN_sigma = 0.02\n",
    "LN_mu = r\n",
    "LN_v = 0.02\n",
    "\n",
    "JR_lam = 0.01\n",
    "JR_sigma = 0.03\n",
    "JR_mu = r + JR_lam\n",
    "\n",
    "LNparams = (LN_lam, LN_sigma, LN_mu, LN_v, m)\n",
    "JRparams = (JR_lam, JR_sigma, JR_mu)\n",
    "GBMparams = (GBM_mu, GBM_sigma)\n",
    "\n",
    "# instance\n",
    "processes = Processes(S0, r, T, K, paths, I, LNparams, JRparams, GBMparams)\n",
    "pricer = Pricer(S0, r, sigma, T, K, paths, I, LNparams, JRparams, GBMparams)"
   ]
  },
  {
   "cell_type": "code",
   "execution_count": 19,
   "metadata": {},
   "outputs": [],
   "source": [
    "JR_paths = processes.merton_jump_to_ruin_paths()"
   ]
  },
  {
   "cell_type": "code",
   "execution_count": 20,
   "metadata": {},
   "outputs": [],
   "source": [
    "import numpy as np\n",
    "\n",
    "def update_exercise_matrix(exercise_matrix):\n",
    "    for path in range(exercise_matrix.shape[0]):\n",
    "        first_exercise = np.where(exercise_matrix[path])[0]\n",
    "        if first_exercise.size > 0:\n",
    "            # Set all values after the first exercise to False\n",
    "            exercise_matrix[path, first_exercise[0] + 1:] = False\n",
    "    return exercise_matrix\n",
    "\n",
    "def LSM(K, S, I, df, basis, deg):\n",
    "    paths = len(S)\n",
    "    H = np.maximum(K - S, 0)  # intrinsic values for put option\n",
    "    V = np.zeros_like(H)  # value matrix\n",
    "    V[:, -1] = H[:, -1]  # set value at maturity equal to intrinsic value\n",
    "    exercise_matrix = np.zeros_like(H, dtype=bool)  # matrix to track exercise decisions\n",
    "\n",
    "    # Valuation by LS Method\n",
    "    for t in range(I - 2, 0, -1):\n",
    "        good_paths = H[:, t] > 0  # paths where the intrinsic value is positive\n",
    "\n",
    "        if np.sum(good_paths) > 0:\n",
    "            # Fit the continuation value based on the chosen basis\n",
    "            if basis == 'poly':\n",
    "                rg = np.polyfit(S[good_paths, t], V[good_paths, t + 1] * df, deg)\n",
    "                C = np.polyval(rg, S[good_paths, t])\n",
    "            elif basis == 'legendre':\n",
    "                rg = np.polynomial.legendre.legfit(S[good_paths, t], V[good_paths, t + 1] * df, deg)\n",
    "                C = np.polynomial.legendre.legval(S[good_paths, t], rg)\n",
    "            elif basis == 'laguerre':\n",
    "                rg = np.polynomial.laguerre.lagfit(S[good_paths, t], V[good_paths, t + 1] * df, deg)\n",
    "                C = np.polynomial.laguerre.lagval(S[good_paths, t], rg)\n",
    "            else:  # 'hermite'\n",
    "                rg = np.polynomial.hermite.hermfit(S[good_paths, t], V[good_paths, t + 1] * df, deg)\n",
    "                C = np.polynomial.hermite.hermval(S[good_paths, t], rg)\n",
    "\n",
    "            exercise = H[good_paths, t] > C\n",
    "            exercise_full = np.zeros_like(H[:, t], dtype=bool)\n",
    "            exercise_full[good_paths] = exercise\n",
    "        else:\n",
    "            exercise_full = np.zeros_like(H[:, t], dtype=bool)\n",
    "\n",
    "        exercise_matrix[:, t] = exercise_full\n",
    "        V[exercise_full, t] = H[exercise_full, t]\n",
    "        V[exercise_full, t + 1:] = 0\n",
    "        discount_path = ~exercise_full\n",
    "        V[discount_path, t] = V[discount_path, t + 1] * df\n",
    "\n",
    "    exercise_matrix = update_exercise_matrix(exercise_matrix)\n",
    "\n",
    "    V0 = np.mean(V[:, 1]) * df  # discounted expectation of V[t=1]\n",
    "    V0_array = V[:, 1] * df\n",
    "    SE = np.std(V[:, 1] * df) / np.sqrt(paths)\n",
    "    return V0, V0_array, SE, exercise_matrix, V\n"
   ]
  },
  {
   "cell_type": "code",
   "execution_count": 21,
   "metadata": {},
   "outputs": [],
   "source": [
    "V0, V0_array, SE, exercise_matrix, V = LSM(K, JR_paths, I, df, basis, deg)"
   ]
  },
  {
   "cell_type": "code",
   "execution_count": 22,
   "metadata": {},
   "outputs": [
    {
     "name": "stderr",
     "output_type": "stream",
     "text": [
      "/Users/philipgadereumert/Desktop/Uni/Kandidat/År 1/Seimar Monte Carlo Finance Econometrics/Python/Pricer.py:30: RuntimeWarning: divide by zero encountered in log\n",
      "  d1 = (np.log(S0 / K) + (r + sigma**2 / 2) * T) / (sigma * np.sqrt(T))\n"
     ]
    }
   ],
   "source": [
    "# Initialize a matrix to store the discounted European put prices\n",
    "european_put_prices = np.zeros_like(exercise_matrix, dtype=float)\n",
    "\n",
    "for path in range(exercise_matrix.shape[0]):\n",
    "    for time in range(exercise_matrix.shape[1]):\n",
    "        if exercise_matrix[path, time]:\n",
    "            S_at_exercise = JR_paths[path, time]\n",
    "            t = time * (T / I)  # Current time in years\n",
    "            undiscounted_price = pricer.closed_formula_JR(S_at_exercise, K, T-t, r, sigma)\n",
    "            discount_factor = np.exp(-r * t)  # Discount factor back to time 0\n",
    "            european_put_prices[path, time] = undiscounted_price * discount_factor\n",
    "\n",
    "first_exercise_prices = np.zeros(european_put_prices.shape[0])\n",
    "\n",
    "for path in range(european_put_prices.shape[0]):\n",
    "    # Find the first non-zero price for this path\n",
    "    first_exercise_price = next((price for price in european_put_prices[path, :] if price > 0), 0)\n",
    "    first_exercise_prices[path] = first_exercise_price\n",
    "\n",
    "crude_monte_carlo_european = pricer.crude_monte_carlo_european(JR_paths)\n",
    "\n",
    "cov = np.cov(crude_monte_carlo_european, V0_array)\n",
    "\n",
    "alpha = -cov[0, 1] / cov[0, 0]\n",
    "\n",
    "adjusted_payoff = V0 + alpha * (crude_monte_carlo_european - np.mean(first_exercise_prices))"
   ]
  },
  {
   "cell_type": "code",
   "execution_count": 23,
   "metadata": {},
   "outputs": [
    {
     "name": "stdout",
     "output_type": "stream",
     "text": [
      "The average price of the european is:  0.6292712549816126\n",
      "The average price of the american is:  0.6964215395505279\n",
      "The standard error of the european is:  0.14937003857383035\n",
      "The standard error of the american is:  0.15408945576718655\n"
     ]
    }
   ],
   "source": [
    "print(\"The average price of the european is: \", np.mean(first_exercise_prices))\n",
    "print(\"The average price of the american is: \", V0)\n",
    "\n",
    "print(\"The standard error of the european is: \", np.std(first_exercise_prices) / np.sqrt(paths))\n",
    "print(\"The standard error of the american is: \", SE)\n"
   ]
  },
  {
   "cell_type": "code",
   "execution_count": 24,
   "metadata": {},
   "outputs": [
    {
     "name": "stdout",
     "output_type": "stream",
     "text": [
      "The covariance between the european and the american is:  23.040872798686127\n"
     ]
    }
   ],
   "source": [
    "print(\"The covariance between the european and the american is: \", cov[0, 1])"
   ]
  },
  {
   "cell_type": "code",
   "execution_count": 25,
   "metadata": {},
   "outputs": [
    {
     "name": "stdout",
     "output_type": "stream",
     "text": [
      "The optimal hedge ratio is:  -1.030351878088593\n"
     ]
    }
   ],
   "source": [
    "print(\"The optimal hedge ratio is: \", alpha)"
   ]
  },
  {
   "cell_type": "code",
   "execution_count": 26,
   "metadata": {},
   "outputs": [
    {
     "name": "stdout",
     "output_type": "stream",
     "text": [
      "The adjusted payoff is:  0.7205668313149003\n",
      "the payoff of the american is:  0.6964215395505279\n"
     ]
    }
   ],
   "source": [
    "print(\"The adjusted payoff is: \", np.mean(adjusted_payoff))\n",
    "print(\"the payoff of the american is: \", V0)"
   ]
  },
  {
   "cell_type": "code",
   "execution_count": 27,
   "metadata": {},
   "outputs": [
    {
     "name": "stdout",
     "output_type": "stream",
     "text": [
      "The standard error of the adjusted payoff is:  0.15400151413010757\n",
      "The standard error of the american is:  0.15408945576718655\n"
     ]
    }
   ],
   "source": [
    "print(\"The standard error of the adjusted payoff is: \", np.std(adjusted_payoff) / np.sqrt(paths))\n",
    "print(\"The standard error of the american is: \", SE)"
   ]
  }
 ],
 "metadata": {
  "kernelspec": {
   "display_name": "base",
   "language": "python",
   "name": "python3"
  },
  "language_info": {
   "codemirror_mode": {
    "name": "ipython",
    "version": 3
   },
   "file_extension": ".py",
   "mimetype": "text/x-python",
   "name": "python",
   "nbconvert_exporter": "python",
   "pygments_lexer": "ipython3",
   "version": "3.9.13"
  }
 },
 "nbformat": 4,
 "nbformat_minor": 2
}
